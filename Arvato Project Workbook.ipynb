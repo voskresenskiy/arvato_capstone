{
 "cells": [
  {
   "cell_type": "markdown",
   "metadata": {},
   "source": [
    "# Capstone Project: Create a Customer Segmentation Report for Arvato Financial Services\n",
    "\n",
    "In this project, you will analyze demographics data for customers of a mail-order sales company in Germany, comparing it against demographics information for the general population. You'll use unsupervised learning techniques to perform customer segmentation, identifying the parts of the population that best describe the core customer base of the company. Then, you'll apply what you've learned on a third dataset with demographics information for targets of a marketing campaign for the company, and use a model to predict which individuals are most likely to convert into becoming customers for the company. The data that you will use has been provided by our partners at Bertelsmann Arvato Analytics, and represents a real-life data science task.\n",
    "\n",
    "If you completed the first term of this program, you will be familiar with the first part of this project, from the unsupervised learning project. The versions of those two datasets used in this project will include many more features and has not been pre-cleaned. You are also free to choose whatever approach you'd like to analyzing the data rather than follow pre-determined steps. In your work on this project, make sure that you carefully document your steps and decisions, since your main deliverable for this project will be a blog post reporting your findings."
   ]
  },
  {
   "cell_type": "code",
   "execution_count": 1,
   "metadata": {},
   "outputs": [],
   "source": [
    "# import libraries here; add more as necessary\n",
    "import numpy as np\n",
    "import pandas as pd\n",
    "import matplotlib.pyplot as plt\n",
    "import seaborn as sns\n",
    "from tqdm import tqdm\n",
    "from sklearn.preprocessing import StandardScaler\n",
    "from sklearn.impute import SimpleImputer\n",
    "from sklearn.decomposition import PCA\n",
    "from sklearn.cluster import KMeans\n",
    "from sklearn.metrics import silhouette_score\n",
    "from sklearn.manifold import TSNE\n",
    "from imblearn.over_sampling import RandomOverSampler, SMOTE\n",
    "from sklearn.ensemble import RandomForestClassifier, AdaBoostClassifier, GradientBoostingClassifier\n",
    "from sklearn.linear_model import LogisticRegression\n",
    "from sklearn.model_selection import GridSearchCV\n",
    "from sklearn.model_selection import StratifiedKFold, StratifiedShuffleSplit\n",
    "from sklearn.metrics import roc_auc_score\n",
    "from lightgbm import LGBMClassifier\n",
    "import warnings\n",
    "\n",
    "\n",
    "# magic word for producing visualizations in notebook\n",
    "%matplotlib inline"
   ]
  },
  {
   "cell_type": "markdown",
   "metadata": {},
   "source": [
    "## Part 0: Get to Know the Data\n",
    "\n",
    "There are four data files associated with this project:\n",
    "\n",
    "- `Udacity_AZDIAS_052018.csv`: Demographics data for the general population of Germany; 891 211 persons (rows) x 366 features (columns).\n",
    "- `Udacity_CUSTOMERS_052018.csv`: Demographics data for customers of a mail-order company; 191 652 persons (rows) x 369 features (columns).\n",
    "- `Udacity_MAILOUT_052018_TRAIN.csv`: Demographics data for individuals who were targets of a marketing campaign; 42 982 persons (rows) x 367 (columns).\n",
    "- `Udacity_MAILOUT_052018_TEST.csv`: Demographics data for individuals who were targets of a marketing campaign; 42 833 persons (rows) x 366 (columns).\n",
    "\n",
    "Each row of the demographics files represents a single person, but also includes information outside of individuals, including information about their household, building, and neighborhood. Use the information from the first two files to figure out how customers (\"CUSTOMERS\") are similar to or differ from the general population at large (\"AZDIAS\"), then use your analysis to make predictions on the other two files (\"MAILOUT\"), predicting which recipients are most likely to become a customer for the mail-order company.\n",
    "\n",
    "The \"CUSTOMERS\" file contains three extra columns ('CUSTOMER_GROUP', 'ONLINE_PURCHASE', and 'PRODUCT_GROUP'), which provide broad information about the customers depicted in the file. The original \"MAILOUT\" file included one additional column, \"RESPONSE\", which indicated whether or not each recipient became a customer of the company. For the \"TRAIN\" subset, this column has been retained, but in the \"TEST\" subset it has been removed; it is against that withheld column that your final predictions will be assessed in the Kaggle competition.\n",
    "\n",
    "Otherwise, all of the remaining columns are the same between the three data files. For more information about the columns depicted in the files, you can refer to two Excel spreadsheets provided in the workspace. [One of them](./DIAS Information Levels - Attributes 2017.xlsx) is a top-level list of attributes and descriptions, organized by informational category. [The other](./DIAS Attributes - Values 2017.xlsx) is a detailed mapping of data values for each feature in alphabetical order.\n",
    "\n",
    "In the below cell, we've provided some initial code to load in the first two datasets. Note for all of the `.csv` data files in this project that they're semicolon (`;`) delimited, so an additional argument in the [`read_csv()`](https://pandas.pydata.org/pandas-docs/stable/generated/pandas.read_csv.html) call has been included to read in the data properly. Also, considering the size of the datasets, it may take some time for them to load completely.\n",
    "\n",
    "You'll notice when the data is loaded in that a warning message will immediately pop up. Before you really start digging into the modeling and analysis, you're going to need to perform some cleaning. Take some time to browse the structure of the data and look over the informational spreadsheets to understand the data values. Make some decisions on which features to keep, which features to drop, and if any revisions need to be made on data formats. It'll be a good idea to create a function with pre-processing steps, since you'll need to clean all of the datasets before you work with them."
   ]
  },
  {
   "cell_type": "code",
   "execution_count": 3,
   "metadata": {},
   "outputs": [
    {
     "name": "stderr",
     "output_type": "stream",
     "text": [
      "/opt/conda/lib/python3.6/site-packages/IPython/core/interactiveshell.py:2785: DtypeWarning: Columns (18,19) have mixed types. Specify dtype option on import or set low_memory=False.\n",
      "  interactivity=interactivity, compiler=compiler, result=result)\n"
     ]
    }
   ],
   "source": [
    "# load in the data\n",
    "azdias = pd.read_csv('../../data/Term2/capstone/arvato_data/Udacity_AZDIAS_052018.csv', sep=';')\n",
    "customers = pd.read_csv('../../data/Term2/capstone/arvato_data/Udacity_CUSTOMERS_052018.csv', sep=';')"
   ]
  },
  {
   "cell_type": "markdown",
   "metadata": {},
   "source": [
    "First, let's look at how many features and observations the datasets contain."
   ]
  },
  {
   "cell_type": "code",
   "execution_count": 3,
   "metadata": {},
   "outputs": [
    {
     "data": {
      "text/plain": [
       "(891221, 366)"
      ]
     },
     "execution_count": 3,
     "metadata": {},
     "output_type": "execute_result"
    }
   ],
   "source": [
    "azdias.shape"
   ]
  },
  {
   "cell_type": "code",
   "execution_count": 4,
   "metadata": {},
   "outputs": [
    {
     "data": {
      "text/plain": [
       "(191652, 369)"
      ]
     },
     "execution_count": 4,
     "metadata": {},
     "output_type": "execute_result"
    }
   ],
   "source": [
    "customers.shape"
   ]
  },
  {
   "cell_type": "code",
   "execution_count": 5,
   "metadata": {},
   "outputs": [
    {
     "data": {
      "text/html": [
       "<div>\n",
       "<style scoped>\n",
       "    .dataframe tbody tr th:only-of-type {\n",
       "        vertical-align: middle;\n",
       "    }\n",
       "\n",
       "    .dataframe tbody tr th {\n",
       "        vertical-align: top;\n",
       "    }\n",
       "\n",
       "    .dataframe thead th {\n",
       "        text-align: right;\n",
       "    }\n",
       "</style>\n",
       "<table border=\"1\" class=\"dataframe\">\n",
       "  <thead>\n",
       "    <tr style=\"text-align: right;\">\n",
       "      <th></th>\n",
       "      <th>LNR</th>\n",
       "      <th>AGER_TYP</th>\n",
       "      <th>AKT_DAT_KL</th>\n",
       "      <th>ALTER_HH</th>\n",
       "      <th>ALTER_KIND1</th>\n",
       "      <th>ALTER_KIND2</th>\n",
       "      <th>ALTER_KIND3</th>\n",
       "      <th>ALTER_KIND4</th>\n",
       "      <th>ALTERSKATEGORIE_FEIN</th>\n",
       "      <th>ANZ_HAUSHALTE_AKTIV</th>\n",
       "      <th>...</th>\n",
       "      <th>VHN</th>\n",
       "      <th>VK_DHT4A</th>\n",
       "      <th>VK_DISTANZ</th>\n",
       "      <th>VK_ZG11</th>\n",
       "      <th>W_KEIT_KIND_HH</th>\n",
       "      <th>WOHNDAUER_2008</th>\n",
       "      <th>WOHNLAGE</th>\n",
       "      <th>ZABEOTYP</th>\n",
       "      <th>ANREDE_KZ</th>\n",
       "      <th>ALTERSKATEGORIE_GROB</th>\n",
       "    </tr>\n",
       "  </thead>\n",
       "  <tbody>\n",
       "    <tr>\n",
       "      <th>0</th>\n",
       "      <td>910215</td>\n",
       "      <td>-1</td>\n",
       "      <td>NaN</td>\n",
       "      <td>NaN</td>\n",
       "      <td>NaN</td>\n",
       "      <td>NaN</td>\n",
       "      <td>NaN</td>\n",
       "      <td>NaN</td>\n",
       "      <td>NaN</td>\n",
       "      <td>NaN</td>\n",
       "      <td>...</td>\n",
       "      <td>NaN</td>\n",
       "      <td>NaN</td>\n",
       "      <td>NaN</td>\n",
       "      <td>NaN</td>\n",
       "      <td>NaN</td>\n",
       "      <td>NaN</td>\n",
       "      <td>NaN</td>\n",
       "      <td>3</td>\n",
       "      <td>1</td>\n",
       "      <td>2</td>\n",
       "    </tr>\n",
       "    <tr>\n",
       "      <th>1</th>\n",
       "      <td>910220</td>\n",
       "      <td>-1</td>\n",
       "      <td>9.0</td>\n",
       "      <td>0.0</td>\n",
       "      <td>NaN</td>\n",
       "      <td>NaN</td>\n",
       "      <td>NaN</td>\n",
       "      <td>NaN</td>\n",
       "      <td>21.0</td>\n",
       "      <td>11.0</td>\n",
       "      <td>...</td>\n",
       "      <td>4.0</td>\n",
       "      <td>8.0</td>\n",
       "      <td>11.0</td>\n",
       "      <td>10.0</td>\n",
       "      <td>3.0</td>\n",
       "      <td>9.0</td>\n",
       "      <td>4.0</td>\n",
       "      <td>5</td>\n",
       "      <td>2</td>\n",
       "      <td>1</td>\n",
       "    </tr>\n",
       "    <tr>\n",
       "      <th>2</th>\n",
       "      <td>910225</td>\n",
       "      <td>-1</td>\n",
       "      <td>9.0</td>\n",
       "      <td>17.0</td>\n",
       "      <td>NaN</td>\n",
       "      <td>NaN</td>\n",
       "      <td>NaN</td>\n",
       "      <td>NaN</td>\n",
       "      <td>17.0</td>\n",
       "      <td>10.0</td>\n",
       "      <td>...</td>\n",
       "      <td>2.0</td>\n",
       "      <td>9.0</td>\n",
       "      <td>9.0</td>\n",
       "      <td>6.0</td>\n",
       "      <td>3.0</td>\n",
       "      <td>9.0</td>\n",
       "      <td>2.0</td>\n",
       "      <td>5</td>\n",
       "      <td>2</td>\n",
       "      <td>3</td>\n",
       "    </tr>\n",
       "    <tr>\n",
       "      <th>3</th>\n",
       "      <td>910226</td>\n",
       "      <td>2</td>\n",
       "      <td>1.0</td>\n",
       "      <td>13.0</td>\n",
       "      <td>NaN</td>\n",
       "      <td>NaN</td>\n",
       "      <td>NaN</td>\n",
       "      <td>NaN</td>\n",
       "      <td>13.0</td>\n",
       "      <td>1.0</td>\n",
       "      <td>...</td>\n",
       "      <td>0.0</td>\n",
       "      <td>7.0</td>\n",
       "      <td>10.0</td>\n",
       "      <td>11.0</td>\n",
       "      <td>NaN</td>\n",
       "      <td>9.0</td>\n",
       "      <td>7.0</td>\n",
       "      <td>3</td>\n",
       "      <td>2</td>\n",
       "      <td>4</td>\n",
       "    </tr>\n",
       "    <tr>\n",
       "      <th>4</th>\n",
       "      <td>910241</td>\n",
       "      <td>-1</td>\n",
       "      <td>1.0</td>\n",
       "      <td>20.0</td>\n",
       "      <td>NaN</td>\n",
       "      <td>NaN</td>\n",
       "      <td>NaN</td>\n",
       "      <td>NaN</td>\n",
       "      <td>14.0</td>\n",
       "      <td>3.0</td>\n",
       "      <td>...</td>\n",
       "      <td>2.0</td>\n",
       "      <td>3.0</td>\n",
       "      <td>5.0</td>\n",
       "      <td>4.0</td>\n",
       "      <td>2.0</td>\n",
       "      <td>9.0</td>\n",
       "      <td>3.0</td>\n",
       "      <td>4</td>\n",
       "      <td>1</td>\n",
       "      <td>3</td>\n",
       "    </tr>\n",
       "  </tbody>\n",
       "</table>\n",
       "<p>5 rows × 366 columns</p>\n",
       "</div>"
      ],
      "text/plain": [
       "      LNR  AGER_TYP  AKT_DAT_KL  ALTER_HH  ALTER_KIND1  ALTER_KIND2  \\\n",
       "0  910215        -1         NaN       NaN          NaN          NaN   \n",
       "1  910220        -1         9.0       0.0          NaN          NaN   \n",
       "2  910225        -1         9.0      17.0          NaN          NaN   \n",
       "3  910226         2         1.0      13.0          NaN          NaN   \n",
       "4  910241        -1         1.0      20.0          NaN          NaN   \n",
       "\n",
       "   ALTER_KIND3  ALTER_KIND4  ALTERSKATEGORIE_FEIN  ANZ_HAUSHALTE_AKTIV  \\\n",
       "0          NaN          NaN                   NaN                  NaN   \n",
       "1          NaN          NaN                  21.0                 11.0   \n",
       "2          NaN          NaN                  17.0                 10.0   \n",
       "3          NaN          NaN                  13.0                  1.0   \n",
       "4          NaN          NaN                  14.0                  3.0   \n",
       "\n",
       "          ...           VHN  VK_DHT4A  VK_DISTANZ  VK_ZG11  W_KEIT_KIND_HH  \\\n",
       "0         ...           NaN       NaN         NaN      NaN             NaN   \n",
       "1         ...           4.0       8.0        11.0     10.0             3.0   \n",
       "2         ...           2.0       9.0         9.0      6.0             3.0   \n",
       "3         ...           0.0       7.0        10.0     11.0             NaN   \n",
       "4         ...           2.0       3.0         5.0      4.0             2.0   \n",
       "\n",
       "   WOHNDAUER_2008  WOHNLAGE ZABEOTYP ANREDE_KZ ALTERSKATEGORIE_GROB  \n",
       "0             NaN       NaN        3         1                    2  \n",
       "1             9.0       4.0        5         2                    1  \n",
       "2             9.0       2.0        5         2                    3  \n",
       "3             9.0       7.0        3         2                    4  \n",
       "4             9.0       3.0        4         1                    3  \n",
       "\n",
       "[5 rows x 366 columns]"
      ]
     },
     "execution_count": 5,
     "metadata": {},
     "output_type": "execute_result"
    }
   ],
   "source": [
    "azdias.head()"
   ]
  },
  {
   "cell_type": "code",
   "execution_count": 6,
   "metadata": {},
   "outputs": [
    {
     "data": {
      "text/html": [
       "<div>\n",
       "<style scoped>\n",
       "    .dataframe tbody tr th:only-of-type {\n",
       "        vertical-align: middle;\n",
       "    }\n",
       "\n",
       "    .dataframe tbody tr th {\n",
       "        vertical-align: top;\n",
       "    }\n",
       "\n",
       "    .dataframe thead th {\n",
       "        text-align: right;\n",
       "    }\n",
       "</style>\n",
       "<table border=\"1\" class=\"dataframe\">\n",
       "  <thead>\n",
       "    <tr style=\"text-align: right;\">\n",
       "      <th></th>\n",
       "      <th>LNR</th>\n",
       "      <th>AGER_TYP</th>\n",
       "      <th>AKT_DAT_KL</th>\n",
       "      <th>ALTER_HH</th>\n",
       "      <th>ALTER_KIND1</th>\n",
       "      <th>ALTER_KIND2</th>\n",
       "      <th>ALTER_KIND3</th>\n",
       "      <th>ALTER_KIND4</th>\n",
       "      <th>ALTERSKATEGORIE_FEIN</th>\n",
       "      <th>ANZ_HAUSHALTE_AKTIV</th>\n",
       "      <th>...</th>\n",
       "      <th>VK_ZG11</th>\n",
       "      <th>W_KEIT_KIND_HH</th>\n",
       "      <th>WOHNDAUER_2008</th>\n",
       "      <th>WOHNLAGE</th>\n",
       "      <th>ZABEOTYP</th>\n",
       "      <th>PRODUCT_GROUP</th>\n",
       "      <th>CUSTOMER_GROUP</th>\n",
       "      <th>ONLINE_PURCHASE</th>\n",
       "      <th>ANREDE_KZ</th>\n",
       "      <th>ALTERSKATEGORIE_GROB</th>\n",
       "    </tr>\n",
       "  </thead>\n",
       "  <tbody>\n",
       "    <tr>\n",
       "      <th>0</th>\n",
       "      <td>9626</td>\n",
       "      <td>2</td>\n",
       "      <td>1.0</td>\n",
       "      <td>10.0</td>\n",
       "      <td>NaN</td>\n",
       "      <td>NaN</td>\n",
       "      <td>NaN</td>\n",
       "      <td>NaN</td>\n",
       "      <td>10.0</td>\n",
       "      <td>1.0</td>\n",
       "      <td>...</td>\n",
       "      <td>2.0</td>\n",
       "      <td>6.0</td>\n",
       "      <td>9.0</td>\n",
       "      <td>7.0</td>\n",
       "      <td>3</td>\n",
       "      <td>COSMETIC_AND_FOOD</td>\n",
       "      <td>MULTI_BUYER</td>\n",
       "      <td>0</td>\n",
       "      <td>1</td>\n",
       "      <td>4</td>\n",
       "    </tr>\n",
       "    <tr>\n",
       "      <th>1</th>\n",
       "      <td>9628</td>\n",
       "      <td>-1</td>\n",
       "      <td>9.0</td>\n",
       "      <td>11.0</td>\n",
       "      <td>NaN</td>\n",
       "      <td>NaN</td>\n",
       "      <td>NaN</td>\n",
       "      <td>NaN</td>\n",
       "      <td>NaN</td>\n",
       "      <td>NaN</td>\n",
       "      <td>...</td>\n",
       "      <td>3.0</td>\n",
       "      <td>0.0</td>\n",
       "      <td>9.0</td>\n",
       "      <td>NaN</td>\n",
       "      <td>3</td>\n",
       "      <td>FOOD</td>\n",
       "      <td>SINGLE_BUYER</td>\n",
       "      <td>0</td>\n",
       "      <td>1</td>\n",
       "      <td>4</td>\n",
       "    </tr>\n",
       "    <tr>\n",
       "      <th>2</th>\n",
       "      <td>143872</td>\n",
       "      <td>-1</td>\n",
       "      <td>1.0</td>\n",
       "      <td>6.0</td>\n",
       "      <td>NaN</td>\n",
       "      <td>NaN</td>\n",
       "      <td>NaN</td>\n",
       "      <td>NaN</td>\n",
       "      <td>0.0</td>\n",
       "      <td>1.0</td>\n",
       "      <td>...</td>\n",
       "      <td>11.0</td>\n",
       "      <td>6.0</td>\n",
       "      <td>9.0</td>\n",
       "      <td>2.0</td>\n",
       "      <td>3</td>\n",
       "      <td>COSMETIC_AND_FOOD</td>\n",
       "      <td>MULTI_BUYER</td>\n",
       "      <td>0</td>\n",
       "      <td>2</td>\n",
       "      <td>4</td>\n",
       "    </tr>\n",
       "    <tr>\n",
       "      <th>3</th>\n",
       "      <td>143873</td>\n",
       "      <td>1</td>\n",
       "      <td>1.0</td>\n",
       "      <td>8.0</td>\n",
       "      <td>NaN</td>\n",
       "      <td>NaN</td>\n",
       "      <td>NaN</td>\n",
       "      <td>NaN</td>\n",
       "      <td>8.0</td>\n",
       "      <td>0.0</td>\n",
       "      <td>...</td>\n",
       "      <td>2.0</td>\n",
       "      <td>NaN</td>\n",
       "      <td>9.0</td>\n",
       "      <td>7.0</td>\n",
       "      <td>1</td>\n",
       "      <td>COSMETIC</td>\n",
       "      <td>MULTI_BUYER</td>\n",
       "      <td>0</td>\n",
       "      <td>1</td>\n",
       "      <td>4</td>\n",
       "    </tr>\n",
       "    <tr>\n",
       "      <th>4</th>\n",
       "      <td>143874</td>\n",
       "      <td>-1</td>\n",
       "      <td>1.0</td>\n",
       "      <td>20.0</td>\n",
       "      <td>NaN</td>\n",
       "      <td>NaN</td>\n",
       "      <td>NaN</td>\n",
       "      <td>NaN</td>\n",
       "      <td>14.0</td>\n",
       "      <td>7.0</td>\n",
       "      <td>...</td>\n",
       "      <td>4.0</td>\n",
       "      <td>2.0</td>\n",
       "      <td>9.0</td>\n",
       "      <td>3.0</td>\n",
       "      <td>1</td>\n",
       "      <td>FOOD</td>\n",
       "      <td>MULTI_BUYER</td>\n",
       "      <td>0</td>\n",
       "      <td>1</td>\n",
       "      <td>3</td>\n",
       "    </tr>\n",
       "  </tbody>\n",
       "</table>\n",
       "<p>5 rows × 369 columns</p>\n",
       "</div>"
      ],
      "text/plain": [
       "      LNR  AGER_TYP  AKT_DAT_KL  ALTER_HH  ALTER_KIND1  ALTER_KIND2  \\\n",
       "0    9626         2         1.0      10.0          NaN          NaN   \n",
       "1    9628        -1         9.0      11.0          NaN          NaN   \n",
       "2  143872        -1         1.0       6.0          NaN          NaN   \n",
       "3  143873         1         1.0       8.0          NaN          NaN   \n",
       "4  143874        -1         1.0      20.0          NaN          NaN   \n",
       "\n",
       "   ALTER_KIND3  ALTER_KIND4  ALTERSKATEGORIE_FEIN  ANZ_HAUSHALTE_AKTIV  \\\n",
       "0          NaN          NaN                  10.0                  1.0   \n",
       "1          NaN          NaN                   NaN                  NaN   \n",
       "2          NaN          NaN                   0.0                  1.0   \n",
       "3          NaN          NaN                   8.0                  0.0   \n",
       "4          NaN          NaN                  14.0                  7.0   \n",
       "\n",
       "          ...           VK_ZG11  W_KEIT_KIND_HH  WOHNDAUER_2008  WOHNLAGE  \\\n",
       "0         ...               2.0             6.0             9.0       7.0   \n",
       "1         ...               3.0             0.0             9.0       NaN   \n",
       "2         ...              11.0             6.0             9.0       2.0   \n",
       "3         ...               2.0             NaN             9.0       7.0   \n",
       "4         ...               4.0             2.0             9.0       3.0   \n",
       "\n",
       "   ZABEOTYP      PRODUCT_GROUP  CUSTOMER_GROUP ONLINE_PURCHASE ANREDE_KZ  \\\n",
       "0         3  COSMETIC_AND_FOOD     MULTI_BUYER               0         1   \n",
       "1         3               FOOD    SINGLE_BUYER               0         1   \n",
       "2         3  COSMETIC_AND_FOOD     MULTI_BUYER               0         2   \n",
       "3         1           COSMETIC     MULTI_BUYER               0         1   \n",
       "4         1               FOOD     MULTI_BUYER               0         1   \n",
       "\n",
       "  ALTERSKATEGORIE_GROB  \n",
       "0                    4  \n",
       "1                    4  \n",
       "2                    4  \n",
       "3                    4  \n",
       "4                    3  \n",
       "\n",
       "[5 rows x 369 columns]"
      ]
     },
     "execution_count": 6,
     "metadata": {},
     "output_type": "execute_result"
    }
   ],
   "source": [
    "customers.head()"
   ]
  },
  {
   "cell_type": "markdown",
   "metadata": {},
   "source": [
    "Then, I upload the datasets containing the additional information on the features I am going to use in the project. "
   ]
  },
  {
   "cell_type": "code",
   "execution_count": 2,
   "metadata": {},
   "outputs": [],
   "source": [
    "attributes = pd.read_excel('./DIAS Information Levels - Attributes 2017.xlsx', header = 1)"
   ]
  },
  {
   "cell_type": "code",
   "execution_count": 3,
   "metadata": {},
   "outputs": [],
   "source": [
    "values = pd.read_excel('./DIAS Attributes - Values 2017.xlsx', header = 1)"
   ]
  },
  {
   "cell_type": "code",
   "execution_count": 9,
   "metadata": {},
   "outputs": [
    {
     "data": {
      "text/plain": [
       "(313, 5)"
      ]
     },
     "execution_count": 9,
     "metadata": {},
     "output_type": "execute_result"
    }
   ],
   "source": [
    "attributes.shape"
   ]
  },
  {
   "cell_type": "code",
   "execution_count": 27,
   "metadata": {
    "scrolled": false
   },
   "outputs": [
    {
     "data": {
      "text/html": [
       "<div>\n",
       "<style scoped>\n",
       "    .dataframe tbody tr th:only-of-type {\n",
       "        vertical-align: middle;\n",
       "    }\n",
       "\n",
       "    .dataframe tbody tr th {\n",
       "        vertical-align: top;\n",
       "    }\n",
       "\n",
       "    .dataframe thead th {\n",
       "        text-align: right;\n",
       "    }\n",
       "</style>\n",
       "<table border=\"1\" class=\"dataframe\">\n",
       "  <thead>\n",
       "    <tr style=\"text-align: right;\">\n",
       "      <th></th>\n",
       "      <th>Unnamed: 0</th>\n",
       "      <th>Information level</th>\n",
       "      <th>Attribute</th>\n",
       "      <th>Description</th>\n",
       "      <th>Additional notes</th>\n",
       "    </tr>\n",
       "  </thead>\n",
       "  <tbody>\n",
       "    <tr>\n",
       "      <th>0</th>\n",
       "      <td>NaN</td>\n",
       "      <td>NaN</td>\n",
       "      <td>AGER_TYP</td>\n",
       "      <td>best-ager typology</td>\n",
       "      <td>in cooperation with Kantar TNS; the informatio...</td>\n",
       "    </tr>\n",
       "    <tr>\n",
       "      <th>1</th>\n",
       "      <td>NaN</td>\n",
       "      <td>Person</td>\n",
       "      <td>ALTERSKATEGORIE_GROB</td>\n",
       "      <td>age through prename analysis</td>\n",
       "      <td>modelled on millions of first name-age-referen...</td>\n",
       "    </tr>\n",
       "    <tr>\n",
       "      <th>2</th>\n",
       "      <td>NaN</td>\n",
       "      <td>NaN</td>\n",
       "      <td>ANREDE_KZ</td>\n",
       "      <td>gender</td>\n",
       "      <td>NaN</td>\n",
       "    </tr>\n",
       "    <tr>\n",
       "      <th>3</th>\n",
       "      <td>NaN</td>\n",
       "      <td>NaN</td>\n",
       "      <td>CJT_GESAMTTYP</td>\n",
       "      <td>Customer-Journey-Typology relating to the pref...</td>\n",
       "      <td>relating to the preferred information, marketi...</td>\n",
       "    </tr>\n",
       "    <tr>\n",
       "      <th>4</th>\n",
       "      <td>NaN</td>\n",
       "      <td>NaN</td>\n",
       "      <td>FINANZ_MINIMALIST</td>\n",
       "      <td>financial typology: low financial interest</td>\n",
       "      <td>Gfk-Typology based on a representative househo...</td>\n",
       "    </tr>\n",
       "  </tbody>\n",
       "</table>\n",
       "</div>"
      ],
      "text/plain": [
       "   Unnamed: 0 Information level             Attribute  \\\n",
       "0         NaN               NaN              AGER_TYP   \n",
       "1         NaN            Person  ALTERSKATEGORIE_GROB   \n",
       "2         NaN               NaN             ANREDE_KZ   \n",
       "3         NaN               NaN         CJT_GESAMTTYP   \n",
       "4         NaN               NaN     FINANZ_MINIMALIST   \n",
       "\n",
       "                                         Description  \\\n",
       "0                                 best-ager typology   \n",
       "1                      age through prename analysis    \n",
       "2                                             gender   \n",
       "3  Customer-Journey-Typology relating to the pref...   \n",
       "4         financial typology: low financial interest   \n",
       "\n",
       "                                    Additional notes  \n",
       "0  in cooperation with Kantar TNS; the informatio...  \n",
       "1  modelled on millions of first name-age-referen...  \n",
       "2                                                NaN  \n",
       "3  relating to the preferred information, marketi...  \n",
       "4  Gfk-Typology based on a representative househo...  "
      ]
     },
     "execution_count": 27,
     "metadata": {},
     "output_type": "execute_result"
    }
   ],
   "source": [
    "attributes.head()"
   ]
  },
  {
   "cell_type": "code",
   "execution_count": 12,
   "metadata": {},
   "outputs": [
    {
     "data": {
      "text/plain": [
       "272"
      ]
     },
     "execution_count": 12,
     "metadata": {},
     "output_type": "execute_result"
    }
   ],
   "source": [
    "len(np.intersect1d(azdias.columns, values['Attribute'].dropna()))"
   ]
  },
  {
   "cell_type": "markdown",
   "metadata": {},
   "source": [
    "We can see that there are 272 features in the general population dataframe for which we have additional information. I  leave only these features in the both datasets I am working with."
   ]
  },
  {
   "cell_type": "code",
   "execution_count": 13,
   "metadata": {},
   "outputs": [],
   "source": [
    "common = np.intersect1d(np.intersect1d(azdias.columns, values['Attribute'].dropna()), customers.columns)\n",
    "azdias = azdias[list(common)]\n",
    "customers = customers[list(common)]"
   ]
  },
  {
   "cell_type": "code",
   "execution_count": 7,
   "metadata": {},
   "outputs": [
    {
     "data": {
      "text/html": [
       "<div>\n",
       "<style scoped>\n",
       "    .dataframe tbody tr th:only-of-type {\n",
       "        vertical-align: middle;\n",
       "    }\n",
       "\n",
       "    .dataframe tbody tr th {\n",
       "        vertical-align: top;\n",
       "    }\n",
       "\n",
       "    .dataframe thead th {\n",
       "        text-align: right;\n",
       "    }\n",
       "</style>\n",
       "<table border=\"1\" class=\"dataframe\">\n",
       "  <thead>\n",
       "    <tr style=\"text-align: right;\">\n",
       "      <th></th>\n",
       "      <th>Attribute</th>\n",
       "      <th>Description</th>\n",
       "      <th>Value</th>\n",
       "      <th>Meaning</th>\n",
       "    </tr>\n",
       "  </thead>\n",
       "  <tbody>\n",
       "    <tr>\n",
       "      <th>NaN</th>\n",
       "      <td>AGER_TYP</td>\n",
       "      <td>best-ager typology</td>\n",
       "      <td>-1</td>\n",
       "      <td>unknown</td>\n",
       "    </tr>\n",
       "    <tr>\n",
       "      <th>NaN</th>\n",
       "      <td>NaN</td>\n",
       "      <td>NaN</td>\n",
       "      <td>0</td>\n",
       "      <td>no classification possible</td>\n",
       "    </tr>\n",
       "    <tr>\n",
       "      <th>NaN</th>\n",
       "      <td>NaN</td>\n",
       "      <td>NaN</td>\n",
       "      <td>1</td>\n",
       "      <td>passive elderly</td>\n",
       "    </tr>\n",
       "    <tr>\n",
       "      <th>NaN</th>\n",
       "      <td>NaN</td>\n",
       "      <td>NaN</td>\n",
       "      <td>2</td>\n",
       "      <td>cultural elderly</td>\n",
       "    </tr>\n",
       "    <tr>\n",
       "      <th>NaN</th>\n",
       "      <td>NaN</td>\n",
       "      <td>NaN</td>\n",
       "      <td>3</td>\n",
       "      <td>experience-driven elderly</td>\n",
       "    </tr>\n",
       "    <tr>\n",
       "      <th>NaN</th>\n",
       "      <td>ALTERSKATEGORIE_GROB</td>\n",
       "      <td>age classification through prename analysis</td>\n",
       "      <td>-1, 0</td>\n",
       "      <td>unknown</td>\n",
       "    </tr>\n",
       "    <tr>\n",
       "      <th>NaN</th>\n",
       "      <td>NaN</td>\n",
       "      <td>NaN</td>\n",
       "      <td>1</td>\n",
       "      <td>&lt; 30 years</td>\n",
       "    </tr>\n",
       "    <tr>\n",
       "      <th>NaN</th>\n",
       "      <td>NaN</td>\n",
       "      <td>NaN</td>\n",
       "      <td>2</td>\n",
       "      <td>30 - 45 years</td>\n",
       "    </tr>\n",
       "    <tr>\n",
       "      <th>NaN</th>\n",
       "      <td>NaN</td>\n",
       "      <td>NaN</td>\n",
       "      <td>3</td>\n",
       "      <td>46 - 60 years</td>\n",
       "    </tr>\n",
       "    <tr>\n",
       "      <th>NaN</th>\n",
       "      <td>NaN</td>\n",
       "      <td>NaN</td>\n",
       "      <td>4</td>\n",
       "      <td>&gt; 60 years</td>\n",
       "    </tr>\n",
       "    <tr>\n",
       "      <th>NaN</th>\n",
       "      <td>NaN</td>\n",
       "      <td>NaN</td>\n",
       "      <td>9</td>\n",
       "      <td>uniformly distributed</td>\n",
       "    </tr>\n",
       "    <tr>\n",
       "      <th>NaN</th>\n",
       "      <td>ALTER_HH</td>\n",
       "      <td>main age within the household</td>\n",
       "      <td>0</td>\n",
       "      <td>unknown / no main age detectable</td>\n",
       "    </tr>\n",
       "    <tr>\n",
       "      <th>NaN</th>\n",
       "      <td>NaN</td>\n",
       "      <td>NaN</td>\n",
       "      <td>1</td>\n",
       "      <td>01.01.1895 bis 31.12.1899</td>\n",
       "    </tr>\n",
       "    <tr>\n",
       "      <th>NaN</th>\n",
       "      <td>NaN</td>\n",
       "      <td>NaN</td>\n",
       "      <td>2</td>\n",
       "      <td>01.01.1900 bis 31.12.1904</td>\n",
       "    </tr>\n",
       "    <tr>\n",
       "      <th>NaN</th>\n",
       "      <td>NaN</td>\n",
       "      <td>NaN</td>\n",
       "      <td>3</td>\n",
       "      <td>01.01.1905 bis 31.12.1909</td>\n",
       "    </tr>\n",
       "  </tbody>\n",
       "</table>\n",
       "</div>"
      ],
      "text/plain": [
       "                Attribute                                   Description  \\\n",
       "NaN              AGER_TYP                            best-ager typology   \n",
       "NaN                   NaN                                           NaN   \n",
       "NaN                   NaN                                           NaN   \n",
       "NaN                   NaN                                           NaN   \n",
       "NaN                   NaN                                           NaN   \n",
       "NaN  ALTERSKATEGORIE_GROB  age classification through prename analysis    \n",
       "NaN                   NaN                                           NaN   \n",
       "NaN                   NaN                                           NaN   \n",
       "NaN                   NaN                                           NaN   \n",
       "NaN                   NaN                                           NaN   \n",
       "NaN                   NaN                                           NaN   \n",
       "NaN              ALTER_HH                 main age within the household   \n",
       "NaN                   NaN                                           NaN   \n",
       "NaN                   NaN                                           NaN   \n",
       "NaN                   NaN                                           NaN   \n",
       "\n",
       "     Value                           Meaning  \n",
       "NaN     -1                           unknown  \n",
       "NaN      0        no classification possible  \n",
       "NaN      1                   passive elderly  \n",
       "NaN      2                  cultural elderly  \n",
       "NaN      3         experience-driven elderly  \n",
       "NaN  -1, 0                           unknown  \n",
       "NaN      1                        < 30 years  \n",
       "NaN      2                     30 - 45 years  \n",
       "NaN      3                     46 - 60 years  \n",
       "NaN      4                        > 60 years  \n",
       "NaN      9             uniformly distributed  \n",
       "NaN      0  unknown / no main age detectable  \n",
       "NaN      1         01.01.1895 bis 31.12.1899  \n",
       "NaN      2         01.01.1900 bis 31.12.1904  \n",
       "NaN      3         01.01.1905 bis 31.12.1909  "
      ]
     },
     "execution_count": 7,
     "metadata": {},
     "output_type": "execute_result"
    }
   ],
   "source": [
    "values.head(15)"
   ]
  },
  {
   "cell_type": "markdown",
   "metadata": {},
   "source": [
    "### Recoding NaNs"
   ]
  },
  {
   "cell_type": "markdown",
   "metadata": {},
   "source": [
    "In the dataset 'values', there is information on how NaN values are coded for each feature. I need to recode them. For that, I have to restructure the dataset 'values' a bit. I am going to find all the codes that correspond to *unknown* or *non-detectable* values and group them on the base of each feature. "
   ]
  },
  {
   "cell_type": "code",
   "execution_count": 4,
   "metadata": {},
   "outputs": [],
   "source": [
    "# identifying all values having 'unknown' or 'non-detectable' meanings\n",
    "values_na = values.fillna(method = 'pad')[values[\"Meaning\"].str.contains('no\\s|unknown', case=False, na=False)]\n",
    "# grouping them based on the features\n",
    "values_na['Value'] = values_na['Value'].apply(str)\n",
    "values_na = values_na.groupby('Attribute')['Value'].apply(','.join).reset_index()"
   ]
  },
  {
   "cell_type": "code",
   "execution_count": 9,
   "metadata": {},
   "outputs": [
    {
     "data": {
      "text/html": [
       "<div>\n",
       "<style scoped>\n",
       "    .dataframe tbody tr th:only-of-type {\n",
       "        vertical-align: middle;\n",
       "    }\n",
       "\n",
       "    .dataframe tbody tr th {\n",
       "        vertical-align: top;\n",
       "    }\n",
       "\n",
       "    .dataframe thead th {\n",
       "        text-align: right;\n",
       "    }\n",
       "</style>\n",
       "<table border=\"1\" class=\"dataframe\">\n",
       "  <thead>\n",
       "    <tr style=\"text-align: right;\">\n",
       "      <th></th>\n",
       "      <th>Attribute</th>\n",
       "      <th>Value</th>\n",
       "    </tr>\n",
       "  </thead>\n",
       "  <tbody>\n",
       "    <tr>\n",
       "      <th>0</th>\n",
       "      <td>AGER_TYP</td>\n",
       "      <td>-1,0</td>\n",
       "    </tr>\n",
       "    <tr>\n",
       "      <th>1</th>\n",
       "      <td>ALTERSKATEGORIE_GROB</td>\n",
       "      <td>-1, 0</td>\n",
       "    </tr>\n",
       "    <tr>\n",
       "      <th>2</th>\n",
       "      <td>ALTER_HH</td>\n",
       "      <td>0</td>\n",
       "    </tr>\n",
       "    <tr>\n",
       "      <th>3</th>\n",
       "      <td>ANREDE_KZ</td>\n",
       "      <td>-1, 0</td>\n",
       "    </tr>\n",
       "    <tr>\n",
       "      <th>4</th>\n",
       "      <td>BALLRAUM</td>\n",
       "      <td>-1</td>\n",
       "    </tr>\n",
       "    <tr>\n",
       "      <th>5</th>\n",
       "      <td>BIP_FLAG</td>\n",
       "      <td>-1,0</td>\n",
       "    </tr>\n",
       "    <tr>\n",
       "      <th>6</th>\n",
       "      <td>CAMEO_DEUG_2015</td>\n",
       "      <td>-1</td>\n",
       "    </tr>\n",
       "    <tr>\n",
       "      <th>7</th>\n",
       "      <td>CAMEO_DEUINTL_2015</td>\n",
       "      <td>-1</td>\n",
       "    </tr>\n",
       "    <tr>\n",
       "      <th>8</th>\n",
       "      <td>CJT_GESAMTTYP</td>\n",
       "      <td>0</td>\n",
       "    </tr>\n",
       "    <tr>\n",
       "      <th>9</th>\n",
       "      <td>D19_BANKEN_ANZ_12</td>\n",
       "      <td>0</td>\n",
       "    </tr>\n",
       "  </tbody>\n",
       "</table>\n",
       "</div>"
      ],
      "text/plain": [
       "              Attribute  Value\n",
       "0              AGER_TYP   -1,0\n",
       "1  ALTERSKATEGORIE_GROB  -1, 0\n",
       "2              ALTER_HH      0\n",
       "3             ANREDE_KZ  -1, 0\n",
       "4              BALLRAUM     -1\n",
       "5              BIP_FLAG   -1,0\n",
       "6       CAMEO_DEUG_2015     -1\n",
       "7    CAMEO_DEUINTL_2015     -1\n",
       "8         CJT_GESAMTTYP      0\n",
       "9     D19_BANKEN_ANZ_12      0"
      ]
     },
     "execution_count": 9,
     "metadata": {},
     "output_type": "execute_result"
    }
   ],
   "source": [
    "values_na.head(10)"
   ]
  },
  {
   "cell_type": "code",
   "execution_count": 6,
   "metadata": {},
   "outputs": [],
   "source": [
    "# writing two functions that would help to identify NaN values for each feature and to recode them\n",
    "\n",
    "def identify_nans(column, df):\n",
    "    \"\"\"\n",
    "    The function identifies NaNs based on the dataset 'vales'\n",
    "\n",
    "    Arguments:\n",
    "        column: Pandas series \n",
    "        df: Pandas DataFrame\n",
    "\n",
    "    Returns:\n",
    "        Pandas series with recoded NaNs\n",
    "    \"\"\"\n",
    "    \n",
    "    nans = values_na[values_na['Attribute'] == column]['Value'].str.split(',')\n",
    "    nans = [int(i) for x in nans for i in x]\n",
    "    found_nans = df[column].apply(lambda x: np.nan if np.in1d(x, nans) else x)\n",
    "    \n",
    "    return found_nans\n",
    "\n",
    "def replace_unknowns(df):\n",
    "    \"\"\"\n",
    "    The function applies 'identify_nans' for all columns in a dataset\n",
    "\n",
    "    Arguments:\n",
    "        df: Pandas DataFrame\n",
    "\n",
    "    Returns:\n",
    "        Pandas DataFrame with recoded values for all columns\n",
    "    \"\"\"\n",
    "    df_copy = df.copy()\n",
    "    for column in tqdm(df.columns):\n",
    "        df_copy[column] = identify_nans(column, df)\n",
    "    \n",
    "    return df_copy"
   ]
  },
  {
   "cell_type": "code",
   "execution_count": null,
   "metadata": {},
   "outputs": [],
   "source": [
    "azdias_cleaned = replace_unknowns(azdias)"
   ]
  },
  {
   "cell_type": "code",
   "execution_count": null,
   "metadata": {},
   "outputs": [],
   "source": [
    "# recoding took some time, so it would be a good idea to save the recoded dataframes\n",
    "azdias_cleaned.to_csv('azdias_cleaned.csv')"
   ]
  },
  {
   "cell_type": "code",
   "execution_count": null,
   "metadata": {},
   "outputs": [],
   "source": [
    "customers_cleaned = replace_unknowns(customers)"
   ]
  },
  {
   "cell_type": "code",
   "execution_count": null,
   "metadata": {},
   "outputs": [],
   "source": [
    "customers_cleaned.to_csv('customers_cleaned.csv')"
   ]
  },
  {
   "cell_type": "code",
   "execution_count": 2,
   "metadata": {},
   "outputs": [
    {
     "name": "stderr",
     "output_type": "stream",
     "text": [
      "/opt/conda/lib/python3.6/site-packages/IPython/core/interactiveshell.py:2785: DtypeWarning: Columns (10) have mixed types. Specify dtype option on import or set low_memory=False.\n",
      "  interactivity=interactivity, compiler=compiler, result=result)\n"
     ]
    }
   ],
   "source": [
    "azdias_cleaned = pd.read_csv('azdias_cleaned.csv')"
   ]
  },
  {
   "cell_type": "code",
   "execution_count": 3,
   "metadata": {
    "scrolled": true
   },
   "outputs": [
    {
     "name": "stderr",
     "output_type": "stream",
     "text": [
      "/opt/conda/lib/python3.6/site-packages/IPython/core/interactiveshell.py:2785: DtypeWarning: Columns (10) have mixed types. Specify dtype option on import or set low_memory=False.\n",
      "  interactivity=interactivity, compiler=compiler, result=result)\n"
     ]
    }
   ],
   "source": [
    "customers_cleaned = pd.read_csv('customers_cleaned.csv')"
   ]
  },
  {
   "cell_type": "code",
   "execution_count": 4,
   "metadata": {},
   "outputs": [],
   "source": [
    "customers_cleaned = customers_cleaned.drop(['Unnamed: 0'], axis = 1)\n",
    "azdias_cleaned = azdias_cleaned.drop(['Unnamed: 0'], axis = 1)"
   ]
  },
  {
   "cell_type": "markdown",
   "metadata": {},
   "source": [
    "### Removing columns and rows with many NaNs"
   ]
  },
  {
   "cell_type": "markdown",
   "metadata": {},
   "source": [
    "In the next step, I need to remove those columns that have too many NaN values. For that, I need to look at the distribution of NaN values in the columns and define a threshold based on it. All columns that have a number of NaNs higher than this defined threshold will be removed."
   ]
  },
  {
   "cell_type": "code",
   "execution_count": 7,
   "metadata": {
    "scrolled": true
   },
   "outputs": [
    {
     "data": {
      "text/plain": [
       "(array([  37.,    4.,  137.,   59.,    0.,    1.,    1.,    2.,    1.,\n",
       "           2.,    2.,    2.,    2.,    1.,    5.,    3.,    2.,    2.,\n",
       "           4.,    5.]),\n",
       " array([ 0.        ,  0.04987882,  0.09975764,  0.14963645,  0.19951527,\n",
       "         0.24939409,  0.29927291,  0.34915173,  0.39903054,  0.44890936,\n",
       "         0.49878818,  0.548667  ,  0.59854582,  0.64842463,  0.69830345,\n",
       "         0.74818227,  0.79806109,  0.8479399 ,  0.89781872,  0.94769754,\n",
       "         0.99757636]),\n",
       " <a list of 20 Patch objects>)"
      ]
     },
     "execution_count": 7,
     "metadata": {},
     "output_type": "execute_result"
    },
    {
     "data": {
      "image/png": "[encoded data removed]",
      "text/plain": [
       "<matplotlib.figure.Figure at 0x7faa08ed3668>"
      ]
     },
     "metadata": {
      "needs_background": "light"
     },
     "output_type": "display_data"
    }
   ],
   "source": [
    "plt.hist((len(azdias_cleaned) - azdias_cleaned.count())/len(azdias_cleaned), bins = 20)"
   ]
  },
  {
   "cell_type": "code",
   "execution_count": 8,
   "metadata": {},
   "outputs": [
    {
     "data": {
      "text/plain": [
       "True     237\n",
       "False     35\n",
       "dtype: int64"
      ]
     },
     "execution_count": 8,
     "metadata": {},
     "output_type": "execute_result"
    }
   ],
   "source": [
    "((len(azdias_cleaned) - azdias_cleaned.count())/len(azdias_cleaned) <= 0.2).value_counts()"
   ]
  },
  {
   "cell_type": "markdown",
   "metadata": {},
   "source": [
    "We can observe that the majority of columns in the general population dataset (n = 238) have less or equal to 2 percent of missing values. For further analysis, I will remove other columns (n = 35)"
   ]
  },
  {
   "cell_type": "code",
   "execution_count": 9,
   "metadata": {},
   "outputs": [
    {
     "data": {
      "text/plain": [
       "(array([  37.,    0.,    0.,    0.,    4.,  139.,   59.,    2.,    1.,\n",
       "           3.,    6.,    2.,    1.,    0.,    2.,    1.,    1.,    3.,\n",
       "           5.,    6.]),\n",
       " array([ 0.        ,  0.04944274,  0.09888548,  0.14832822,  0.19777096,\n",
       "         0.2472137 ,  0.29665644,  0.34609918,  0.39554192,  0.44498466,\n",
       "         0.4944274 ,  0.54387014,  0.59331288,  0.64275562,  0.69219836,\n",
       "         0.7416411 ,  0.79108384,  0.84052658,  0.88996932,  0.93941206,\n",
       "         0.9888548 ]),\n",
       " <a list of 20 Patch objects>)"
      ]
     },
     "execution_count": 9,
     "metadata": {},
     "output_type": "execute_result"
    },
    {
     "data": {
      "image/png": "[encoded data removed]",
      "text/plain": [
       "<matplotlib.figure.Figure at 0x7fa9e0ce0e10>"
      ]
     },
     "metadata": {
      "needs_background": "light"
     },
     "output_type": "display_data"
    }
   ],
   "source": [
    "plt.hist((len(customers_cleaned) - customers_cleaned.count())/len(customers_cleaned), bins = 20)"
   ]
  },
  {
   "cell_type": "code",
   "execution_count": 10,
   "metadata": {},
   "outputs": [
    {
     "data": {
      "text/plain": [
       "True     236\n",
       "False     36\n",
       "dtype: int64"
      ]
     },
     "execution_count": 10,
     "metadata": {},
     "output_type": "execute_result"
    }
   ],
   "source": [
    "((len(customers_cleaned) - customers_cleaned.count())/len(customers_cleaned) <= 0.3).value_counts()"
   ]
  },
  {
   "cell_type": "markdown",
   "metadata": {},
   "source": [
    "The distribution of NaN values in the dataset with customers' information is a bit different, so I will define a bit higher threshold for it; all the columns having more than 3 percent of missing values."
   ]
  },
  {
   "cell_type": "code",
   "execution_count": 11,
   "metadata": {},
   "outputs": [],
   "source": [
    "remove_customers = customers_cleaned.columns[(len(customers_cleaned) - customers_cleaned.count())/\n",
    "                                             len(customers_cleaned) > 0.3]"
   ]
  },
  {
   "cell_type": "code",
   "execution_count": 12,
   "metadata": {},
   "outputs": [],
   "source": [
    "remove_azdias = azdias_cleaned.columns[(len(azdias_cleaned) - azdias_cleaned.count())/\n",
    "                                             len(azdias_cleaned) > 0.2]"
   ]
  },
  {
   "cell_type": "code",
   "execution_count": 13,
   "metadata": {},
   "outputs": [
    {
     "data": {
      "text/plain": [
       "array(['KKK', 'REGIOTYP'], dtype=object)"
      ]
     },
     "execution_count": 13,
     "metadata": {},
     "output_type": "execute_result"
    }
   ],
   "source": [
    "np.setdiff1d(remove_customers, remove_azdias)"
   ]
  },
  {
   "cell_type": "code",
   "execution_count": 14,
   "metadata": {},
   "outputs": [
    {
     "data": {
      "text/plain": [
       "array(['D19_KONSUMTYP'], dtype=object)"
      ]
     },
     "execution_count": 14,
     "metadata": {},
     "output_type": "execute_result"
    }
   ],
   "source": [
    "np.setdiff1d(remove_azdias, remove_customers)"
   ]
  },
  {
   "cell_type": "markdown",
   "metadata": {},
   "source": [
    "Based on the previous lines of code, we can see that the columns we are going to remove from both datasets are very similar (only three columns do not match). "
   ]
  },
  {
   "cell_type": "code",
   "execution_count": 5,
   "metadata": {},
   "outputs": [],
   "source": [
    "stay_customers = customers_cleaned.columns[(len(customers_cleaned) - customers_cleaned.count())/\n",
    "                                             len(customers_cleaned) <= 0.3]"
   ]
  },
  {
   "cell_type": "code",
   "execution_count": 6,
   "metadata": {},
   "outputs": [],
   "source": [
    "stay_azdias = azdias_cleaned.columns[(len(azdias_cleaned) - azdias_cleaned.count())/\n",
    "                                             len(azdias_cleaned) <= 0.2]"
   ]
  },
  {
   "cell_type": "code",
   "execution_count": 7,
   "metadata": {},
   "outputs": [],
   "source": [
    "common = np.intersect1d(stay_customers, stay_azdias)"
   ]
  },
  {
   "cell_type": "code",
   "execution_count": 8,
   "metadata": {},
   "outputs": [],
   "source": [
    "customers_cleaned = customers_cleaned[common]"
   ]
  },
  {
   "cell_type": "code",
   "execution_count": 9,
   "metadata": {},
   "outputs": [],
   "source": [
    "azdias_cleaned = azdias_cleaned[common]"
   ]
  },
  {
   "cell_type": "markdown",
   "metadata": {},
   "source": [
    "The similar distributions of missing values were constructed for rows of the datasets."
   ]
  },
  {
   "cell_type": "code",
   "execution_count": 20,
   "metadata": {},
   "outputs": [
    {
     "data": {
      "text/plain": [
       "(array([  7.19538000e+05,   1.71810000e+04,   5.13000000e+02,\n",
       "          5.50000000e+01,   1.00000000e+00,   0.00000000e+00,\n",
       "          0.00000000e+00,   0.00000000e+00,   0.00000000e+00,\n",
       "          0.00000000e+00,   3.56700000e+03,   3.49570000e+04,\n",
       "          8.56900000e+03,   9.37000000e+02,   1.00000000e+02,\n",
       "          2.00000000e+00,   1.00000000e+00,   0.00000000e+00,\n",
       "          0.00000000e+00,   0.00000000e+00,   5.08000000e+02,\n",
       "          1.44000000e+02,   4.84200000e+03,   3.11000000e+02,\n",
       "          1.70000000e+01,   1.00000000e+00,   0.00000000e+00,\n",
       "          0.00000000e+00,   0.00000000e+00,   0.00000000e+00,\n",
       "          0.00000000e+00,   5.00000000e+00,   1.72000000e+02,\n",
       "          5.43400000e+03,   1.13400000e+03,   6.90000000e+01,\n",
       "          3.65600000e+03,   1.54460000e+04,   7.39820000e+04,\n",
       "          7.90000000e+01]),\n",
       " array([   0.   ,    5.125,   10.25 ,   15.375,   20.5  ,   25.625,\n",
       "          30.75 ,   35.875,   41.   ,   46.125,   51.25 ,   56.375,\n",
       "          61.5  ,   66.625,   71.75 ,   76.875,   82.   ,   87.125,\n",
       "          92.25 ,   97.375,  102.5  ,  107.625,  112.75 ,  117.875,\n",
       "         123.   ,  128.125,  133.25 ,  138.375,  143.5  ,  148.625,\n",
       "         153.75 ,  158.875,  164.   ,  169.125,  174.25 ,  179.375,\n",
       "         184.5  ,  189.625,  194.75 ,  199.875,  205.   ]),\n",
       " <a list of 40 Patch objects>)"
      ]
     },
     "execution_count": 20,
     "metadata": {},
     "output_type": "execute_result"
    },
    {
     "data": {
      "image/png": "[encoded data removed]",
      "text/plain": [
       "<matplotlib.figure.Figure at 0x7fa9e08e2ba8>"
      ]
     },
     "metadata": {
      "needs_background": "light"
     },
     "output_type": "display_data"
    }
   ],
   "source": [
    "plt.hist(azdias_cleaned.isnull().sum(axis=1), bins=40)"
   ]
  },
  {
   "cell_type": "code",
   "execution_count": 21,
   "metadata": {},
   "outputs": [
    {
     "data": {
      "text/plain": [
       "(array([  1.30650000e+05,   3.45600000e+03,   1.28000000e+02,\n",
       "          1.10000000e+01,   1.00000000e+00,   0.00000000e+00,\n",
       "          0.00000000e+00,   0.00000000e+00,   0.00000000e+00,\n",
       "          0.00000000e+00,   1.77000000e+02,   4.70100000e+03,\n",
       "          1.08500000e+03,   1.46000000e+02,   1.60000000e+01,\n",
       "          0.00000000e+00,   0.00000000e+00,   0.00000000e+00,\n",
       "          0.00000000e+00,   0.00000000e+00,   3.50000000e+01,\n",
       "          9.00000000e+00,   4.17000000e+02,   2.20000000e+01,\n",
       "          1.00000000e+01,   0.00000000e+00,   0.00000000e+00,\n",
       "          0.00000000e+00,   0.00000000e+00,   0.00000000e+00,\n",
       "          0.00000000e+00,   2.00000000e+00,   1.00000000e+01,\n",
       "          5.48000000e+02,   2.89000000e+02,   8.00000000e+00,\n",
       "          5.00000000e+01,   3.16000000e+03,   4.66320000e+04,\n",
       "          8.90000000e+01]),\n",
       " array([   0. ,    5.1,   10.2,   15.3,   20.4,   25.5,   30.6,   35.7,\n",
       "          40.8,   45.9,   51. ,   56.1,   61.2,   66.3,   71.4,   76.5,\n",
       "          81.6,   86.7,   91.8,   96.9,  102. ,  107.1,  112.2,  117.3,\n",
       "         122.4,  127.5,  132.6,  137.7,  142.8,  147.9,  153. ,  158.1,\n",
       "         163.2,  168.3,  173.4,  178.5,  183.6,  188.7,  193.8,  198.9,\n",
       "         204. ]),\n",
       " <a list of 40 Patch objects>)"
      ]
     },
     "execution_count": 21,
     "metadata": {},
     "output_type": "execute_result"
    },
    {
     "data": {
      "image/png": "[encoded data removed]",
      "text/plain": [
       "<matplotlib.figure.Figure at 0x7fa9e08dc470>"
      ]
     },
     "metadata": {
      "needs_background": "light"
     },
     "output_type": "display_data"
    }
   ],
   "source": [
    "plt.hist(customers_cleaned.isnull().sum(axis=1), bins=40)"
   ]
  },
  {
   "cell_type": "code",
   "execution_count": 20,
   "metadata": {},
   "outputs": [
    {
     "data": {
      "text/plain": [
       "0.29953248596414334"
      ]
     },
     "execution_count": 20,
     "metadata": {},
     "output_type": "execute_result"
    }
   ],
   "source": [
    "len(customers_cleaned.isnull().sum(axis = 1)[customers_cleaned.isnull().sum(axis = 1) > 50])/customers_cleaned.shape[0]"
   ]
  },
  {
   "cell_type": "code",
   "execution_count": 11,
   "metadata": {},
   "outputs": [
    {
     "data": {
      "text/plain": [
       "0.17272146863684765"
      ]
     },
     "execution_count": 11,
     "metadata": {},
     "output_type": "execute_result"
    }
   ],
   "source": [
    "len(azdias_cleaned.isnull().sum(axis = 1)[azdias_cleaned.isnull().sum(axis = 1) > 50])/azdias_cleaned.shape[0]"
   ]
  },
  {
   "cell_type": "markdown",
   "metadata": {},
   "source": [
    "If we take 50 missing values as a threshold, we can observe that numbers of rows we should remove from the datasets are different. In the dataset with customers' information, there are much more the rows having more than 50 missing values."
   ]
  },
  {
   "cell_type": "markdown",
   "metadata": {},
   "source": [
    "To decide if removing rows (based on the chosen threshold) is a nice idea, I divide each dataset into two groups: the first one contains only those rows that have less missing values than a defined threshold, and the second one contains other rows. Then, I compare how the distributions of values in some columns (those ones that do not have missing values) differ between these two groups. If the distributions are not very different, then I can freely drop those rows that exceed the threshold. In the opposite case, it would be dangerous to remove these rows as I am going to lose some important information from my data. "
   ]
  },
  {
   "cell_type": "code",
   "execution_count": 13,
   "metadata": {},
   "outputs": [],
   "source": [
    "def compare_dists(df, threshold, num_columns):\n",
    "    \"\"\"\n",
    "    The function divides a dataset into two parts based on the chosen threholds and draws the distributions of values \n",
    "    for columns not having missing data (or having few missing values)\n",
    "\n",
    "    Arguments:\n",
    "        df: pandas DataFrame\n",
    "        threshold: numeric value identifying the number of NaNs in a row\n",
    "        num_columns: numeric value identifying the number of columns for which the function calculates distributions\n",
    "\n",
    "    Returns:\n",
    "        Charts showing distributions of values for two groups\n",
    "    \"\"\"\n",
    "    \n",
    "    print('dividing the dataset')\n",
    "    \n",
    "    df_indexes_more = df.isnull().sum(axis = 1)[df.isnull().sum(axis = 1) > threshold].index\n",
    "    df_indexes_less = df.isnull().sum(axis = 1)[df.isnull().sum(axis = 1) <= threshold].index\n",
    "    \n",
    "    df_more = df.iloc[df_indexes_more,]\n",
    "    df_less = df.iloc[df_indexes_less,]\n",
    "    \n",
    "    col_to_check = ((len(df) - df.count())/len(df)).sort_values(ascending = True).head(num_columns)\n",
    "    \n",
    "    print('drawing a chart')\n",
    "    \n",
    "    for i in col_to_check.index:\n",
    "        fig, ax =plt.subplots(1,2)\n",
    "        sns.countplot(df_less[i], ax=ax[0])\n",
    "        sns.countplot(df_more[i], ax=ax[1])  \n",
    "        plt.subplots_adjust(right = 1.5)\n",
    "        fig.show()"
   ]
  },
  {
   "cell_type": "code",
   "execution_count": 16,
   "metadata": {},
   "outputs": [
    {
     "name": "stdout",
     "output_type": "stream",
     "text": [
      "dividing the dataset\n",
      "drawing a chart\n"
     ]
    },
    {
     "name": "stderr",
     "output_type": "stream",
     "text": [
      "/opt/conda/lib/python3.6/site-packages/matplotlib/figure.py:418: UserWarning: matplotlib is currently using a non-GUI backend, so cannot show the figure\n",
      "  \"matplotlib is currently using a non-GUI backend, \"\n"
     ]
    },
    {
     "data": {
      "image/png": "[encoded data removed]",
      "text/plain": [
       "<matplotlib.figure.Figure at 0x7fbf87f30be0>"
      ]
     },
     "metadata": {
      "needs_background": "light"
     },
     "output_type": "display_data"
    },
    {
     "data": {
      "image/png": "[encoded data removed]",
      "text/plain": [
       "<matplotlib.figure.Figure at 0x7fbf87e44d30>"
      ]
     },
     "metadata": {
      "needs_background": "light"
     },
     "output_type": "display_data"
    },
    {
     "data": {
      "image/png": "[encoded data removed]",
      "text/plain": [
       "<matplotlib.figure.Figure at 0x7fbf87e804a8>"
      ]
     },
     "metadata": {
      "needs_background": "light"
     },
     "output_type": "display_data"
    }
   ],
   "source": [
    "compare_dists(customers_cleaned, 50, 3)"
   ]
  },
  {
   "cell_type": "code",
   "execution_count": 17,
   "metadata": {
    "scrolled": false
   },
   "outputs": [
    {
     "name": "stdout",
     "output_type": "stream",
     "text": [
      "dividing the dataset\n",
      "drawing a chart\n"
     ]
    },
    {
     "name": "stderr",
     "output_type": "stream",
     "text": [
      "/opt/conda/lib/python3.6/site-packages/matplotlib/figure.py:418: UserWarning: matplotlib is currently using a non-GUI backend, so cannot show the figure\n",
      "  \"matplotlib is currently using a non-GUI backend, \"\n"
     ]
    },
    {
     "data": {
      "image/png": "[encoded data removed]",
      "text/plain": [
       "<matplotlib.figure.Figure at 0x7fbf87d25da0>"
      ]
     },
     "metadata": {
      "needs_background": "light"
     },
     "output_type": "display_data"
    },
    {
     "data": {
      "image/png": "[encoded data removed]",
      "text/plain": [
       "<matplotlib.figure.Figure at 0x7fbf8b1a8f98>"
      ]
     },
     "metadata": {
      "needs_background": "light"
     },
     "output_type": "display_data"
    },
    {
     "data": {
      "image/png": "[encoded data removed]",
      "text/plain": [
       "<matplotlib.figure.Figure at 0x7fbf8a5eff60>"
      ]
     },
     "metadata": {
      "needs_background": "light"
     },
     "output_type": "display_data"
    }
   ],
   "source": [
    "compare_dists(azdias_cleaned, 50, 3)"
   ]
  },
  {
   "cell_type": "markdown",
   "metadata": {},
   "source": [
    "As we can see from the charts, the distributions of values in the groups are quite different, so it's dangerous to drop all these values (especially, in the customers' dataset where such rows make almost 30% of data). "
   ]
  },
  {
   "cell_type": "markdown",
   "metadata": {},
   "source": [
    "### Recoding variables"
   ]
  },
  {
   "cell_type": "markdown",
   "metadata": {},
   "source": [
    "In the next step of data preparation, I need to recode some of the categorical variables that I have in the datasets."
   ]
  },
  {
   "cell_type": "code",
   "execution_count": 26,
   "metadata": {},
   "outputs": [
    {
     "data": {
      "text/plain": [
       "float64    206\n",
       "int64       26\n",
       "object       3\n",
       "dtype: int64"
      ]
     },
     "execution_count": 26,
     "metadata": {},
     "output_type": "execute_result"
    }
   ],
   "source": [
    "customers_cleaned.dtypes.value_counts()"
   ]
  },
  {
   "cell_type": "markdown",
   "metadata": {},
   "source": [
    "I need to work on three variables that are categorical ones."
   ]
  },
  {
   "cell_type": "code",
   "execution_count": 10,
   "metadata": {},
   "outputs": [],
   "source": [
    "cat_variables = list(customers_cleaned.columns[customers_cleaned.dtypes == 'object'])"
   ]
  },
  {
   "cell_type": "code",
   "execution_count": 14,
   "metadata": {},
   "outputs": [
    {
     "data": {
      "text/html": [
       "<div>\n",
       "<style scoped>\n",
       "    .dataframe tbody tr th:only-of-type {\n",
       "        vertical-align: middle;\n",
       "    }\n",
       "\n",
       "    .dataframe tbody tr th {\n",
       "        vertical-align: top;\n",
       "    }\n",
       "\n",
       "    .dataframe thead th {\n",
       "        text-align: right;\n",
       "    }\n",
       "</style>\n",
       "<table border=\"1\" class=\"dataframe\">\n",
       "  <thead>\n",
       "    <tr style=\"text-align: right;\">\n",
       "      <th></th>\n",
       "      <th>Unnamed: 0</th>\n",
       "      <th>Information level</th>\n",
       "      <th>Attribute</th>\n",
       "      <th>Description</th>\n",
       "      <th>Additional notes</th>\n",
       "    </tr>\n",
       "  </thead>\n",
       "  <tbody>\n",
       "    <tr>\n",
       "      <th>83</th>\n",
       "      <td>NaN</td>\n",
       "      <td>NaN</td>\n",
       "      <td>OST_WEST_KZ</td>\n",
       "      <td>flag indicating the former GDR/FRG</td>\n",
       "      <td>NaN</td>\n",
       "    </tr>\n",
       "    <tr>\n",
       "      <th>85</th>\n",
       "      <td>NaN</td>\n",
       "      <td>Microcell (RR4_ID)</td>\n",
       "      <td>CAMEO_DEUG_2015</td>\n",
       "      <td>CAMEO_4.0: uppergroup</td>\n",
       "      <td>New German CAMEO Typology established together...</td>\n",
       "    </tr>\n",
       "    <tr>\n",
       "      <th>86</th>\n",
       "      <td>NaN</td>\n",
       "      <td>NaN</td>\n",
       "      <td>CAMEO_DEU_2015</td>\n",
       "      <td>CAMEO_4.0: specific group</td>\n",
       "      <td>NaN</td>\n",
       "    </tr>\n",
       "  </tbody>\n",
       "</table>\n",
       "</div>"
      ],
      "text/plain": [
       "    Unnamed: 0   Information level        Attribute  \\\n",
       "83         NaN                 NaN      OST_WEST_KZ   \n",
       "85         NaN  Microcell (RR4_ID)  CAMEO_DEUG_2015   \n",
       "86         NaN                 NaN   CAMEO_DEU_2015   \n",
       "\n",
       "                           Description  \\\n",
       "83  flag indicating the former GDR/FRG   \n",
       "85               CAMEO_4.0: uppergroup   \n",
       "86           CAMEO_4.0: specific group   \n",
       "\n",
       "                                     Additional notes  \n",
       "83                                                NaN  \n",
       "85  New German CAMEO Typology established together...  \n",
       "86                                                NaN  "
      ]
     },
     "execution_count": 14,
     "metadata": {},
     "output_type": "execute_result"
    }
   ],
   "source": [
    "attributes[attributes['Attribute'].isin(cat_variables)]"
   ]
  },
  {
   "cell_type": "code",
   "execution_count": 15,
   "metadata": {},
   "outputs": [],
   "source": [
    "# to explore the values of these categorical variables, I need to restructure the dataset with values a bit\n",
    "values_filled = values.fillna(method = 'pad')"
   ]
  },
  {
   "cell_type": "code",
   "execution_count": 16,
   "metadata": {
    "scrolled": true
   },
   "outputs": [
    {
     "data": {
      "text/html": [
       "<div>\n",
       "<style scoped>\n",
       "    .dataframe tbody tr th:only-of-type {\n",
       "        vertical-align: middle;\n",
       "    }\n",
       "\n",
       "    .dataframe tbody tr th {\n",
       "        vertical-align: top;\n",
       "    }\n",
       "\n",
       "    .dataframe thead th {\n",
       "        text-align: right;\n",
       "    }\n",
       "</style>\n",
       "<table border=\"1\" class=\"dataframe\">\n",
       "  <thead>\n",
       "    <tr style=\"text-align: right;\">\n",
       "      <th></th>\n",
       "      <th>Unnamed: 0</th>\n",
       "      <th>Attribute</th>\n",
       "      <th>Description</th>\n",
       "      <th>Value</th>\n",
       "      <th>Meaning</th>\n",
       "    </tr>\n",
       "  </thead>\n",
       "  <tbody>\n",
       "    <tr>\n",
       "      <th>51</th>\n",
       "      <td>NaN</td>\n",
       "      <td>CAMEO_DEUG_2015</td>\n",
       "      <td>CAMEO classification 2015 - Uppergroup</td>\n",
       "      <td>-1</td>\n",
       "      <td>unknown</td>\n",
       "    </tr>\n",
       "    <tr>\n",
       "      <th>52</th>\n",
       "      <td>NaN</td>\n",
       "      <td>CAMEO_DEUG_2015</td>\n",
       "      <td>CAMEO classification 2015 - Uppergroup</td>\n",
       "      <td>1</td>\n",
       "      <td>upper class</td>\n",
       "    </tr>\n",
       "    <tr>\n",
       "      <th>53</th>\n",
       "      <td>NaN</td>\n",
       "      <td>CAMEO_DEUG_2015</td>\n",
       "      <td>CAMEO classification 2015 - Uppergroup</td>\n",
       "      <td>2</td>\n",
       "      <td>upper middleclass</td>\n",
       "    </tr>\n",
       "    <tr>\n",
       "      <th>54</th>\n",
       "      <td>NaN</td>\n",
       "      <td>CAMEO_DEUG_2015</td>\n",
       "      <td>CAMEO classification 2015 - Uppergroup</td>\n",
       "      <td>3</td>\n",
       "      <td>established middleclasse</td>\n",
       "    </tr>\n",
       "    <tr>\n",
       "      <th>55</th>\n",
       "      <td>NaN</td>\n",
       "      <td>CAMEO_DEUG_2015</td>\n",
       "      <td>CAMEO classification 2015 - Uppergroup</td>\n",
       "      <td>4</td>\n",
       "      <td>consumption-oriented middleclass</td>\n",
       "    </tr>\n",
       "    <tr>\n",
       "      <th>56</th>\n",
       "      <td>NaN</td>\n",
       "      <td>CAMEO_DEUG_2015</td>\n",
       "      <td>CAMEO classification 2015 - Uppergroup</td>\n",
       "      <td>5</td>\n",
       "      <td>active middleclass</td>\n",
       "    </tr>\n",
       "    <tr>\n",
       "      <th>57</th>\n",
       "      <td>NaN</td>\n",
       "      <td>CAMEO_DEUG_2015</td>\n",
       "      <td>CAMEO classification 2015 - Uppergroup</td>\n",
       "      <td>6</td>\n",
       "      <td>low-consumption middleclass</td>\n",
       "    </tr>\n",
       "    <tr>\n",
       "      <th>58</th>\n",
       "      <td>NaN</td>\n",
       "      <td>CAMEO_DEUG_2015</td>\n",
       "      <td>CAMEO classification 2015 - Uppergroup</td>\n",
       "      <td>7</td>\n",
       "      <td>lower middleclass</td>\n",
       "    </tr>\n",
       "    <tr>\n",
       "      <th>59</th>\n",
       "      <td>NaN</td>\n",
       "      <td>CAMEO_DEUG_2015</td>\n",
       "      <td>CAMEO classification 2015 - Uppergroup</td>\n",
       "      <td>8</td>\n",
       "      <td>working class</td>\n",
       "    </tr>\n",
       "    <tr>\n",
       "      <th>60</th>\n",
       "      <td>NaN</td>\n",
       "      <td>CAMEO_DEUG_2015</td>\n",
       "      <td>CAMEO classification 2015 - Uppergroup</td>\n",
       "      <td>9</td>\n",
       "      <td>urban working class</td>\n",
       "    </tr>\n",
       "    <tr>\n",
       "      <th>61</th>\n",
       "      <td>NaN</td>\n",
       "      <td>CAMEO_DEU_2015</td>\n",
       "      <td>CAMEO classification 2015 - detailled classifi...</td>\n",
       "      <td>1A</td>\n",
       "      <td>Work-Life-Balance</td>\n",
       "    </tr>\n",
       "    <tr>\n",
       "      <th>62</th>\n",
       "      <td>NaN</td>\n",
       "      <td>CAMEO_DEU_2015</td>\n",
       "      <td>CAMEO classification 2015 - detailled classifi...</td>\n",
       "      <td>1B</td>\n",
       "      <td>Wealthy Best Ager</td>\n",
       "    </tr>\n",
       "    <tr>\n",
       "      <th>63</th>\n",
       "      <td>NaN</td>\n",
       "      <td>CAMEO_DEU_2015</td>\n",
       "      <td>CAMEO classification 2015 - detailled classifi...</td>\n",
       "      <td>1C</td>\n",
       "      <td>Successful Songwriter</td>\n",
       "    </tr>\n",
       "    <tr>\n",
       "      <th>64</th>\n",
       "      <td>NaN</td>\n",
       "      <td>CAMEO_DEU_2015</td>\n",
       "      <td>CAMEO classification 2015 - detailled classifi...</td>\n",
       "      <td>1D</td>\n",
       "      <td>Old Nobility</td>\n",
       "    </tr>\n",
       "    <tr>\n",
       "      <th>65</th>\n",
       "      <td>NaN</td>\n",
       "      <td>CAMEO_DEU_2015</td>\n",
       "      <td>CAMEO classification 2015 - detailled classifi...</td>\n",
       "      <td>1E</td>\n",
       "      <td>City Nobility</td>\n",
       "    </tr>\n",
       "    <tr>\n",
       "      <th>66</th>\n",
       "      <td>NaN</td>\n",
       "      <td>CAMEO_DEU_2015</td>\n",
       "      <td>CAMEO classification 2015 - detailled classifi...</td>\n",
       "      <td>2A</td>\n",
       "      <td>Cottage Chic</td>\n",
       "    </tr>\n",
       "    <tr>\n",
       "      <th>67</th>\n",
       "      <td>NaN</td>\n",
       "      <td>CAMEO_DEU_2015</td>\n",
       "      <td>CAMEO classification 2015 - detailled classifi...</td>\n",
       "      <td>2B</td>\n",
       "      <td>Noble Jogger</td>\n",
       "    </tr>\n",
       "    <tr>\n",
       "      <th>68</th>\n",
       "      <td>NaN</td>\n",
       "      <td>CAMEO_DEU_2015</td>\n",
       "      <td>CAMEO classification 2015 - detailled classifi...</td>\n",
       "      <td>2C</td>\n",
       "      <td>Established gourmet</td>\n",
       "    </tr>\n",
       "    <tr>\n",
       "      <th>69</th>\n",
       "      <td>NaN</td>\n",
       "      <td>CAMEO_DEU_2015</td>\n",
       "      <td>CAMEO classification 2015 - detailled classifi...</td>\n",
       "      <td>2D</td>\n",
       "      <td>Fine Management</td>\n",
       "    </tr>\n",
       "    <tr>\n",
       "      <th>70</th>\n",
       "      <td>NaN</td>\n",
       "      <td>CAMEO_DEU_2015</td>\n",
       "      <td>CAMEO classification 2015 - detailled classifi...</td>\n",
       "      <td>3A</td>\n",
       "      <td>Career &amp; Family</td>\n",
       "    </tr>\n",
       "    <tr>\n",
       "      <th>71</th>\n",
       "      <td>NaN</td>\n",
       "      <td>CAMEO_DEU_2015</td>\n",
       "      <td>CAMEO classification 2015 - detailled classifi...</td>\n",
       "      <td>3B</td>\n",
       "      <td>Powershopping Families</td>\n",
       "    </tr>\n",
       "    <tr>\n",
       "      <th>72</th>\n",
       "      <td>NaN</td>\n",
       "      <td>CAMEO_DEU_2015</td>\n",
       "      <td>CAMEO classification 2015 - detailled classifi...</td>\n",
       "      <td>3C</td>\n",
       "      <td>Rural Neighborhood</td>\n",
       "    </tr>\n",
       "    <tr>\n",
       "      <th>73</th>\n",
       "      <td>NaN</td>\n",
       "      <td>CAMEO_DEU_2015</td>\n",
       "      <td>CAMEO classification 2015 - detailled classifi...</td>\n",
       "      <td>3D</td>\n",
       "      <td>Secure Retirement</td>\n",
       "    </tr>\n",
       "    <tr>\n",
       "      <th>74</th>\n",
       "      <td>NaN</td>\n",
       "      <td>CAMEO_DEU_2015</td>\n",
       "      <td>CAMEO classification 2015 - detailled classifi...</td>\n",
       "      <td>4A</td>\n",
       "      <td>Family Starter</td>\n",
       "    </tr>\n",
       "    <tr>\n",
       "      <th>75</th>\n",
       "      <td>NaN</td>\n",
       "      <td>CAMEO_DEU_2015</td>\n",
       "      <td>CAMEO classification 2015 - detailled classifi...</td>\n",
       "      <td>4B</td>\n",
       "      <td>Family Life</td>\n",
       "    </tr>\n",
       "    <tr>\n",
       "      <th>76</th>\n",
       "      <td>NaN</td>\n",
       "      <td>CAMEO_DEU_2015</td>\n",
       "      <td>CAMEO classification 2015 - detailled classifi...</td>\n",
       "      <td>4C</td>\n",
       "      <td>String Trimmer</td>\n",
       "    </tr>\n",
       "    <tr>\n",
       "      <th>77</th>\n",
       "      <td>NaN</td>\n",
       "      <td>CAMEO_DEU_2015</td>\n",
       "      <td>CAMEO classification 2015 - detailled classifi...</td>\n",
       "      <td>4D</td>\n",
       "      <td>Empty Nest</td>\n",
       "    </tr>\n",
       "    <tr>\n",
       "      <th>78</th>\n",
       "      <td>NaN</td>\n",
       "      <td>CAMEO_DEU_2015</td>\n",
       "      <td>CAMEO classification 2015 - detailled classifi...</td>\n",
       "      <td>4E</td>\n",
       "      <td>Golden Ager</td>\n",
       "    </tr>\n",
       "    <tr>\n",
       "      <th>79</th>\n",
       "      <td>NaN</td>\n",
       "      <td>CAMEO_DEU_2015</td>\n",
       "      <td>CAMEO classification 2015 - detailled classifi...</td>\n",
       "      <td>5A</td>\n",
       "      <td>Younger Employees</td>\n",
       "    </tr>\n",
       "    <tr>\n",
       "      <th>80</th>\n",
       "      <td>NaN</td>\n",
       "      <td>CAMEO_DEU_2015</td>\n",
       "      <td>CAMEO classification 2015 - detailled classifi...</td>\n",
       "      <td>5B</td>\n",
       "      <td>Suddenly Family</td>\n",
       "    </tr>\n",
       "    <tr>\n",
       "      <th>81</th>\n",
       "      <td>NaN</td>\n",
       "      <td>CAMEO_DEU_2015</td>\n",
       "      <td>CAMEO classification 2015 - detailled classifi...</td>\n",
       "      <td>5C</td>\n",
       "      <td>Family First</td>\n",
       "    </tr>\n",
       "    <tr>\n",
       "      <th>82</th>\n",
       "      <td>NaN</td>\n",
       "      <td>CAMEO_DEU_2015</td>\n",
       "      <td>CAMEO classification 2015 - detailled classifi...</td>\n",
       "      <td>5D</td>\n",
       "      <td>Stock Market Junkies</td>\n",
       "    </tr>\n",
       "    <tr>\n",
       "      <th>83</th>\n",
       "      <td>NaN</td>\n",
       "      <td>CAMEO_DEU_2015</td>\n",
       "      <td>CAMEO classification 2015 - detailled classifi...</td>\n",
       "      <td>5E</td>\n",
       "      <td>Coffee Rider</td>\n",
       "    </tr>\n",
       "    <tr>\n",
       "      <th>84</th>\n",
       "      <td>NaN</td>\n",
       "      <td>CAMEO_DEU_2015</td>\n",
       "      <td>CAMEO classification 2015 - detailled classifi...</td>\n",
       "      <td>5F</td>\n",
       "      <td>Active Retirement</td>\n",
       "    </tr>\n",
       "    <tr>\n",
       "      <th>85</th>\n",
       "      <td>NaN</td>\n",
       "      <td>CAMEO_DEU_2015</td>\n",
       "      <td>CAMEO classification 2015 - detailled classifi...</td>\n",
       "      <td>6A</td>\n",
       "      <td>Jobstarter</td>\n",
       "    </tr>\n",
       "    <tr>\n",
       "      <th>86</th>\n",
       "      <td>NaN</td>\n",
       "      <td>CAMEO_DEU_2015</td>\n",
       "      <td>CAMEO classification 2015 - detailled classifi...</td>\n",
       "      <td>6B</td>\n",
       "      <td>Petty Bourgeois</td>\n",
       "    </tr>\n",
       "    <tr>\n",
       "      <th>87</th>\n",
       "      <td>NaN</td>\n",
       "      <td>CAMEO_DEU_2015</td>\n",
       "      <td>CAMEO classification 2015 - detailled classifi...</td>\n",
       "      <td>6C</td>\n",
       "      <td>Long-established</td>\n",
       "    </tr>\n",
       "    <tr>\n",
       "      <th>88</th>\n",
       "      <td>NaN</td>\n",
       "      <td>CAMEO_DEU_2015</td>\n",
       "      <td>CAMEO classification 2015 - detailled classifi...</td>\n",
       "      <td>6D</td>\n",
       "      <td>Sportgardener</td>\n",
       "    </tr>\n",
       "    <tr>\n",
       "      <th>89</th>\n",
       "      <td>NaN</td>\n",
       "      <td>CAMEO_DEU_2015</td>\n",
       "      <td>CAMEO classification 2015 - detailled classifi...</td>\n",
       "      <td>6E</td>\n",
       "      <td>Urban Parents</td>\n",
       "    </tr>\n",
       "    <tr>\n",
       "      <th>90</th>\n",
       "      <td>NaN</td>\n",
       "      <td>CAMEO_DEU_2015</td>\n",
       "      <td>CAMEO classification 2015 - detailled classifi...</td>\n",
       "      <td>6F</td>\n",
       "      <td>Frugal Aging</td>\n",
       "    </tr>\n",
       "    <tr>\n",
       "      <th>91</th>\n",
       "      <td>NaN</td>\n",
       "      <td>CAMEO_DEU_2015</td>\n",
       "      <td>CAMEO classification 2015 - detailled classifi...</td>\n",
       "      <td>7A</td>\n",
       "      <td>Journeymen</td>\n",
       "    </tr>\n",
       "    <tr>\n",
       "      <th>92</th>\n",
       "      <td>NaN</td>\n",
       "      <td>CAMEO_DEU_2015</td>\n",
       "      <td>CAMEO classification 2015 - detailled classifi...</td>\n",
       "      <td>7B</td>\n",
       "      <td>Mantaplatte</td>\n",
       "    </tr>\n",
       "    <tr>\n",
       "      <th>93</th>\n",
       "      <td>NaN</td>\n",
       "      <td>CAMEO_DEU_2015</td>\n",
       "      <td>CAMEO classification 2015 - detailled classifi...</td>\n",
       "      <td>7C</td>\n",
       "      <td>Factory Worker</td>\n",
       "    </tr>\n",
       "    <tr>\n",
       "      <th>94</th>\n",
       "      <td>NaN</td>\n",
       "      <td>CAMEO_DEU_2015</td>\n",
       "      <td>CAMEO classification 2015 - detailled classifi...</td>\n",
       "      <td>7D</td>\n",
       "      <td>Rear Window</td>\n",
       "    </tr>\n",
       "    <tr>\n",
       "      <th>95</th>\n",
       "      <td>NaN</td>\n",
       "      <td>CAMEO_DEU_2015</td>\n",
       "      <td>CAMEO classification 2015 - detailled classifi...</td>\n",
       "      <td>7E</td>\n",
       "      <td>Interested Retirees</td>\n",
       "    </tr>\n",
       "    <tr>\n",
       "      <th>96</th>\n",
       "      <td>NaN</td>\n",
       "      <td>CAMEO_DEU_2015</td>\n",
       "      <td>CAMEO classification 2015 - detailled classifi...</td>\n",
       "      <td>8A</td>\n",
       "      <td>Multi-culteral</td>\n",
       "    </tr>\n",
       "    <tr>\n",
       "      <th>97</th>\n",
       "      <td>NaN</td>\n",
       "      <td>CAMEO_DEU_2015</td>\n",
       "      <td>CAMEO classification 2015 - detailled classifi...</td>\n",
       "      <td>8B</td>\n",
       "      <td>Young &amp; Mobile</td>\n",
       "    </tr>\n",
       "    <tr>\n",
       "      <th>98</th>\n",
       "      <td>NaN</td>\n",
       "      <td>CAMEO_DEU_2015</td>\n",
       "      <td>CAMEO classification 2015 - detailled classifi...</td>\n",
       "      <td>8C</td>\n",
       "      <td>Prefab</td>\n",
       "    </tr>\n",
       "    <tr>\n",
       "      <th>99</th>\n",
       "      <td>NaN</td>\n",
       "      <td>CAMEO_DEU_2015</td>\n",
       "      <td>CAMEO classification 2015 - detailled classifi...</td>\n",
       "      <td>8D</td>\n",
       "      <td>Town Seniors</td>\n",
       "    </tr>\n",
       "    <tr>\n",
       "      <th>100</th>\n",
       "      <td>NaN</td>\n",
       "      <td>CAMEO_DEU_2015</td>\n",
       "      <td>CAMEO classification 2015 - detailled classifi...</td>\n",
       "      <td>9A</td>\n",
       "      <td>First Shared Apartment</td>\n",
       "    </tr>\n",
       "    <tr>\n",
       "      <th>101</th>\n",
       "      <td>NaN</td>\n",
       "      <td>CAMEO_DEU_2015</td>\n",
       "      <td>CAMEO classification 2015 - detailled classifi...</td>\n",
       "      <td>9B</td>\n",
       "      <td>Temporary Workers</td>\n",
       "    </tr>\n",
       "    <tr>\n",
       "      <th>102</th>\n",
       "      <td>NaN</td>\n",
       "      <td>CAMEO_DEU_2015</td>\n",
       "      <td>CAMEO classification 2015 - detailled classifi...</td>\n",
       "      <td>9C</td>\n",
       "      <td>Afternoon Talk Show</td>\n",
       "    </tr>\n",
       "    <tr>\n",
       "      <th>103</th>\n",
       "      <td>NaN</td>\n",
       "      <td>CAMEO_DEU_2015</td>\n",
       "      <td>CAMEO classification 2015 - detailled classifi...</td>\n",
       "      <td>9D</td>\n",
       "      <td>Mini-Jobber</td>\n",
       "    </tr>\n",
       "    <tr>\n",
       "      <th>104</th>\n",
       "      <td>NaN</td>\n",
       "      <td>CAMEO_DEU_2015</td>\n",
       "      <td>CAMEO classification 2015 - detailled classifi...</td>\n",
       "      <td>9E</td>\n",
       "      <td>Socking Away</td>\n",
       "    </tr>\n",
       "    <tr>\n",
       "      <th>2013</th>\n",
       "      <td>NaN</td>\n",
       "      <td>OST_WEST_KZ</td>\n",
       "      <td>flag indicating the former GDR/FRG</td>\n",
       "      <td>-1</td>\n",
       "      <td>unknown</td>\n",
       "    </tr>\n",
       "    <tr>\n",
       "      <th>2014</th>\n",
       "      <td>NaN</td>\n",
       "      <td>OST_WEST_KZ</td>\n",
       "      <td>flag indicating the former GDR/FRG</td>\n",
       "      <td>O</td>\n",
       "      <td>East (GDR)</td>\n",
       "    </tr>\n",
       "    <tr>\n",
       "      <th>2015</th>\n",
       "      <td>NaN</td>\n",
       "      <td>OST_WEST_KZ</td>\n",
       "      <td>flag indicating the former GDR/FRG</td>\n",
       "      <td>W</td>\n",
       "      <td>West (FRG)</td>\n",
       "    </tr>\n",
       "  </tbody>\n",
       "</table>\n",
       "</div>"
      ],
      "text/plain": [
       "      Unnamed: 0        Attribute  \\\n",
       "51           NaN  CAMEO_DEUG_2015   \n",
       "52           NaN  CAMEO_DEUG_2015   \n",
       "53           NaN  CAMEO_DEUG_2015   \n",
       "54           NaN  CAMEO_DEUG_2015   \n",
       "55           NaN  CAMEO_DEUG_2015   \n",
       "56           NaN  CAMEO_DEUG_2015   \n",
       "57           NaN  CAMEO_DEUG_2015   \n",
       "58           NaN  CAMEO_DEUG_2015   \n",
       "59           NaN  CAMEO_DEUG_2015   \n",
       "60           NaN  CAMEO_DEUG_2015   \n",
       "61           NaN   CAMEO_DEU_2015   \n",
       "62           NaN   CAMEO_DEU_2015   \n",
       "63           NaN   CAMEO_DEU_2015   \n",
       "64           NaN   CAMEO_DEU_2015   \n",
       "65           NaN   CAMEO_DEU_2015   \n",
       "66           NaN   CAMEO_DEU_2015   \n",
       "67           NaN   CAMEO_DEU_2015   \n",
       "68           NaN   CAMEO_DEU_2015   \n",
       "69           NaN   CAMEO_DEU_2015   \n",
       "70           NaN   CAMEO_DEU_2015   \n",
       "71           NaN   CAMEO_DEU_2015   \n",
       "72           NaN   CAMEO_DEU_2015   \n",
       "73           NaN   CAMEO_DEU_2015   \n",
       "74           NaN   CAMEO_DEU_2015   \n",
       "75           NaN   CAMEO_DEU_2015   \n",
       "76           NaN   CAMEO_DEU_2015   \n",
       "77           NaN   CAMEO_DEU_2015   \n",
       "78           NaN   CAMEO_DEU_2015   \n",
       "79           NaN   CAMEO_DEU_2015   \n",
       "80           NaN   CAMEO_DEU_2015   \n",
       "81           NaN   CAMEO_DEU_2015   \n",
       "82           NaN   CAMEO_DEU_2015   \n",
       "83           NaN   CAMEO_DEU_2015   \n",
       "84           NaN   CAMEO_DEU_2015   \n",
       "85           NaN   CAMEO_DEU_2015   \n",
       "86           NaN   CAMEO_DEU_2015   \n",
       "87           NaN   CAMEO_DEU_2015   \n",
       "88           NaN   CAMEO_DEU_2015   \n",
       "89           NaN   CAMEO_DEU_2015   \n",
       "90           NaN   CAMEO_DEU_2015   \n",
       "91           NaN   CAMEO_DEU_2015   \n",
       "92           NaN   CAMEO_DEU_2015   \n",
       "93           NaN   CAMEO_DEU_2015   \n",
       "94           NaN   CAMEO_DEU_2015   \n",
       "95           NaN   CAMEO_DEU_2015   \n",
       "96           NaN   CAMEO_DEU_2015   \n",
       "97           NaN   CAMEO_DEU_2015   \n",
       "98           NaN   CAMEO_DEU_2015   \n",
       "99           NaN   CAMEO_DEU_2015   \n",
       "100          NaN   CAMEO_DEU_2015   \n",
       "101          NaN   CAMEO_DEU_2015   \n",
       "102          NaN   CAMEO_DEU_2015   \n",
       "103          NaN   CAMEO_DEU_2015   \n",
       "104          NaN   CAMEO_DEU_2015   \n",
       "2013         NaN      OST_WEST_KZ   \n",
       "2014         NaN      OST_WEST_KZ   \n",
       "2015         NaN      OST_WEST_KZ   \n",
       "\n",
       "                                            Description Value  \\\n",
       "51               CAMEO classification 2015 - Uppergroup    -1   \n",
       "52               CAMEO classification 2015 - Uppergroup     1   \n",
       "53               CAMEO classification 2015 - Uppergroup     2   \n",
       "54               CAMEO classification 2015 - Uppergroup     3   \n",
       "55               CAMEO classification 2015 - Uppergroup     4   \n",
       "56               CAMEO classification 2015 - Uppergroup     5   \n",
       "57               CAMEO classification 2015 - Uppergroup     6   \n",
       "58               CAMEO classification 2015 - Uppergroup     7   \n",
       "59               CAMEO classification 2015 - Uppergroup     8   \n",
       "60               CAMEO classification 2015 - Uppergroup     9   \n",
       "61    CAMEO classification 2015 - detailled classifi...    1A   \n",
       "62    CAMEO classification 2015 - detailled classifi...    1B   \n",
       "63    CAMEO classification 2015 - detailled classifi...    1C   \n",
       "64    CAMEO classification 2015 - detailled classifi...    1D   \n",
       "65    CAMEO classification 2015 - detailled classifi...    1E   \n",
       "66    CAMEO classification 2015 - detailled classifi...    2A   \n",
       "67    CAMEO classification 2015 - detailled classifi...    2B   \n",
       "68    CAMEO classification 2015 - detailled classifi...    2C   \n",
       "69    CAMEO classification 2015 - detailled classifi...    2D   \n",
       "70    CAMEO classification 2015 - detailled classifi...    3A   \n",
       "71    CAMEO classification 2015 - detailled classifi...    3B   \n",
       "72    CAMEO classification 2015 - detailled classifi...    3C   \n",
       "73    CAMEO classification 2015 - detailled classifi...    3D   \n",
       "74    CAMEO classification 2015 - detailled classifi...    4A   \n",
       "75    CAMEO classification 2015 - detailled classifi...    4B   \n",
       "76    CAMEO classification 2015 - detailled classifi...    4C   \n",
       "77    CAMEO classification 2015 - detailled classifi...    4D   \n",
       "78    CAMEO classification 2015 - detailled classifi...    4E   \n",
       "79    CAMEO classification 2015 - detailled classifi...    5A   \n",
       "80    CAMEO classification 2015 - detailled classifi...    5B   \n",
       "81    CAMEO classification 2015 - detailled classifi...    5C   \n",
       "82    CAMEO classification 2015 - detailled classifi...    5D   \n",
       "83    CAMEO classification 2015 - detailled classifi...    5E   \n",
       "84    CAMEO classification 2015 - detailled classifi...    5F   \n",
       "85    CAMEO classification 2015 - detailled classifi...    6A   \n",
       "86    CAMEO classification 2015 - detailled classifi...    6B   \n",
       "87    CAMEO classification 2015 - detailled classifi...    6C   \n",
       "88    CAMEO classification 2015 - detailled classifi...    6D   \n",
       "89    CAMEO classification 2015 - detailled classifi...    6E   \n",
       "90    CAMEO classification 2015 - detailled classifi...    6F   \n",
       "91    CAMEO classification 2015 - detailled classifi...    7A   \n",
       "92    CAMEO classification 2015 - detailled classifi...    7B   \n",
       "93    CAMEO classification 2015 - detailled classifi...    7C   \n",
       "94    CAMEO classification 2015 - detailled classifi...    7D   \n",
       "95    CAMEO classification 2015 - detailled classifi...    7E   \n",
       "96    CAMEO classification 2015 - detailled classifi...    8A   \n",
       "97    CAMEO classification 2015 - detailled classifi...    8B   \n",
       "98    CAMEO classification 2015 - detailled classifi...    8C   \n",
       "99    CAMEO classification 2015 - detailled classifi...    8D   \n",
       "100   CAMEO classification 2015 - detailled classifi...    9A   \n",
       "101   CAMEO classification 2015 - detailled classifi...    9B   \n",
       "102   CAMEO classification 2015 - detailled classifi...    9C   \n",
       "103   CAMEO classification 2015 - detailled classifi...    9D   \n",
       "104   CAMEO classification 2015 - detailled classifi...    9E   \n",
       "2013                 flag indicating the former GDR/FRG    -1   \n",
       "2014                 flag indicating the former GDR/FRG     O   \n",
       "2015                 flag indicating the former GDR/FRG     W   \n",
       "\n",
       "                                Meaning  \n",
       "51                              unknown  \n",
       "52                          upper class  \n",
       "53                    upper middleclass  \n",
       "54             established middleclasse  \n",
       "55    consumption-oriented middleclass   \n",
       "56                  active middleclass   \n",
       "57          low-consumption middleclass  \n",
       "58                    lower middleclass  \n",
       "59                        working class  \n",
       "60                  urban working class  \n",
       "61                    Work-Life-Balance  \n",
       "62                    Wealthy Best Ager  \n",
       "63                Successful Songwriter  \n",
       "64                         Old Nobility  \n",
       "65                        City Nobility  \n",
       "66                         Cottage Chic  \n",
       "67                         Noble Jogger  \n",
       "68                  Established gourmet  \n",
       "69                      Fine Management  \n",
       "70                      Career & Family  \n",
       "71               Powershopping Families  \n",
       "72                   Rural Neighborhood  \n",
       "73                    Secure Retirement  \n",
       "74                       Family Starter  \n",
       "75                          Family Life  \n",
       "76                       String Trimmer  \n",
       "77                           Empty Nest  \n",
       "78                          Golden Ager  \n",
       "79                    Younger Employees  \n",
       "80                      Suddenly Family  \n",
       "81                         Family First  \n",
       "82                 Stock Market Junkies  \n",
       "83                         Coffee Rider  \n",
       "84                    Active Retirement  \n",
       "85                           Jobstarter  \n",
       "86                      Petty Bourgeois  \n",
       "87                     Long-established  \n",
       "88                        Sportgardener  \n",
       "89                        Urban Parents  \n",
       "90                         Frugal Aging  \n",
       "91                           Journeymen  \n",
       "92                          Mantaplatte  \n",
       "93                       Factory Worker  \n",
       "94                          Rear Window  \n",
       "95                  Interested Retirees  \n",
       "96                       Multi-culteral  \n",
       "97                       Young & Mobile  \n",
       "98                               Prefab  \n",
       "99                         Town Seniors  \n",
       "100              First Shared Apartment  \n",
       "101                   Temporary Workers  \n",
       "102                 Afternoon Talk Show  \n",
       "103                         Mini-Jobber  \n",
       "104                        Socking Away  \n",
       "2013                            unknown  \n",
       "2014                         East (GDR)  \n",
       "2015                         West (FRG)  "
      ]
     },
     "execution_count": 16,
     "metadata": {},
     "output_type": "execute_result"
    }
   ],
   "source": [
    "values_filled[values_filled['Attribute'].isin(cat_variables)]"
   ]
  },
  {
   "cell_type": "markdown",
   "metadata": {},
   "source": [
    "Based on the information from the values dataset, I already can see that I didn't recode all missing values in my data. In the variable *CAMEO_DEUG_2015*, some of the missing values are marked by *X*. I need to recode them. Some of the values in this variable are strings, and others are floats. I will recode all of them into floats."
   ]
  },
  {
   "cell_type": "code",
   "execution_count": 11,
   "metadata": {},
   "outputs": [],
   "source": [
    "customers_cleaned.loc[customers_cleaned['CAMEO_DEUG_2015'] == 'X', 'CAMEO_DEUG_2015'] = np.nan"
   ]
  },
  {
   "cell_type": "code",
   "execution_count": 12,
   "metadata": {},
   "outputs": [],
   "source": [
    "customers_cleaned['CAMEO_DEUG_2015'] = customers_cleaned['CAMEO_DEUG_2015'].astype('float64')"
   ]
  },
  {
   "cell_type": "markdown",
   "metadata": {},
   "source": [
    "The variable *CAMEO_DEU_2015* can be dropped as it represents the same information as *CAMEO_DEUG_2015* but in more granulated way."
   ]
  },
  {
   "cell_type": "code",
   "execution_count": 13,
   "metadata": {},
   "outputs": [],
   "source": [
    "customers_cleaned = customers_cleaned.drop('CAMEO_DEU_2015', axis = 1)"
   ]
  },
  {
   "cell_type": "markdown",
   "metadata": {},
   "source": [
    "Another variable that should be recoded is called *OST_WEST_KZ*. It has only two variables, so I just create a dummy variable from it."
   ]
  },
  {
   "cell_type": "code",
   "execution_count": 14,
   "metadata": {},
   "outputs": [],
   "source": [
    "# creating a dummy variable, NaN values are saved as I wanna impute them later\n",
    "west_ost = pd.get_dummies(customers_cleaned['OST_WEST_KZ'], dummy_na = True, drop_first = True)\n",
    "west_ost.columns = ['W', 'nans']\n",
    "west_ost.loc[west_ost['nans'] == 1, 'W'] = np.nan\n",
    "west_ost = west_ost.drop('nans', axis = 1)"
   ]
  },
  {
   "cell_type": "code",
   "execution_count": 15,
   "metadata": {},
   "outputs": [],
   "source": [
    "# dropping the original variable \n",
    "customers_cleaned = customers_cleaned.drop('OST_WEST_KZ', axis = 1)"
   ]
  },
  {
   "cell_type": "code",
   "execution_count": 16,
   "metadata": {},
   "outputs": [],
   "source": [
    "# merging the dummy variable\n",
    "customers_cleaned = pd.concat([customers_cleaned, west_ost], axis = 1)"
   ]
  },
  {
   "cell_type": "markdown",
   "metadata": {},
   "source": [
    "I also decided to explore the variables having additional notes as I assumed some of them should be recoded as well."
   ]
  },
  {
   "cell_type": "code",
   "execution_count": 94,
   "metadata": {
    "scrolled": true
   },
   "outputs": [
    {
     "data": {
      "text/html": [
       "<div>\n",
       "<style scoped>\n",
       "    .dataframe tbody tr th:only-of-type {\n",
       "        vertical-align: middle;\n",
       "    }\n",
       "\n",
       "    .dataframe tbody tr th {\n",
       "        vertical-align: top;\n",
       "    }\n",
       "\n",
       "    .dataframe thead th {\n",
       "        text-align: right;\n",
       "    }\n",
       "</style>\n",
       "<table border=\"1\" class=\"dataframe\">\n",
       "  <thead>\n",
       "    <tr style=\"text-align: right;\">\n",
       "      <th></th>\n",
       "      <th>Unnamed: 0</th>\n",
       "      <th>Information level</th>\n",
       "      <th>Attribute</th>\n",
       "      <th>Description</th>\n",
       "      <th>Additional notes</th>\n",
       "    </tr>\n",
       "  </thead>\n",
       "  <tbody>\n",
       "    <tr>\n",
       "      <th>1</th>\n",
       "      <td>NaN</td>\n",
       "      <td>Person</td>\n",
       "      <td>ALTERSKATEGORIE_GROB</td>\n",
       "      <td>age through prename analysis</td>\n",
       "      <td>modelled on millions of first name-age-referen...</td>\n",
       "    </tr>\n",
       "    <tr>\n",
       "      <th>3</th>\n",
       "      <td>NaN</td>\n",
       "      <td>NaN</td>\n",
       "      <td>CJT_GESAMTTYP</td>\n",
       "      <td>Customer-Journey-Typology relating to the pref...</td>\n",
       "      <td>relating to the preferred information, marketi...</td>\n",
       "    </tr>\n",
       "    <tr>\n",
       "      <th>4</th>\n",
       "      <td>NaN</td>\n",
       "      <td>NaN</td>\n",
       "      <td>FINANZ_MINIMALIST</td>\n",
       "      <td>financial typology: low financial interest</td>\n",
       "      <td>Gfk-Typology based on a representative househo...</td>\n",
       "    </tr>\n",
       "    <tr>\n",
       "      <th>13</th>\n",
       "      <td>NaN</td>\n",
       "      <td>NaN</td>\n",
       "      <td>GREEN_AVANTGARDE</td>\n",
       "      <td>the environmental sustainability is the domina...</td>\n",
       "      <td>own typology based on modelled on different AZ...</td>\n",
       "    </tr>\n",
       "    <tr>\n",
       "      <th>14</th>\n",
       "      <td>NaN</td>\n",
       "      <td>NaN</td>\n",
       "      <td>HEALTH_TYP</td>\n",
       "      <td>health typology</td>\n",
       "      <td>in cooperation with Kantar TNS; the informatio...</td>\n",
       "    </tr>\n",
       "    <tr>\n",
       "      <th>15</th>\n",
       "      <td>NaN</td>\n",
       "      <td>NaN</td>\n",
       "      <td>LP_LEBENSPHASE_FEIN</td>\n",
       "      <td>lifestage fine</td>\n",
       "      <td>modelled on different AZ DIAS data</td>\n",
       "    </tr>\n",
       "    <tr>\n",
       "      <th>16</th>\n",
       "      <td>NaN</td>\n",
       "      <td>NaN</td>\n",
       "      <td>LP_LEBENSPHASE_GROB</td>\n",
       "      <td>lifestage rough</td>\n",
       "      <td>modelled on different AZ DIAS data</td>\n",
       "    </tr>\n",
       "    <tr>\n",
       "      <th>21</th>\n",
       "      <td>NaN</td>\n",
       "      <td>NaN</td>\n",
       "      <td>NATIONALITAET_KZ</td>\n",
       "      <td>nationaltity</td>\n",
       "      <td>based on analysis of the first name</td>\n",
       "    </tr>\n",
       "    <tr>\n",
       "      <th>22</th>\n",
       "      <td>NaN</td>\n",
       "      <td>NaN</td>\n",
       "      <td>PRAEGENDE_JUGENDJAHRE</td>\n",
       "      <td>dominating movement in the person's youth (ava...</td>\n",
       "      <td>own typology modelled on different AZ DIAS data</td>\n",
       "    </tr>\n",
       "    <tr>\n",
       "      <th>24</th>\n",
       "      <td>NaN</td>\n",
       "      <td>NaN</td>\n",
       "      <td>SEMIO_SOZ</td>\n",
       "      <td>affinity indicating in what way the person is ...</td>\n",
       "      <td>attributes in cooperation with Kantar TNS; the...</td>\n",
       "    </tr>\n",
       "    <tr>\n",
       "      <th>41</th>\n",
       "      <td>NaN</td>\n",
       "      <td>NaN</td>\n",
       "      <td>VERS_TYP</td>\n",
       "      <td>insurance typology</td>\n",
       "      <td>in cooperation with TNS Infratest</td>\n",
       "    </tr>\n",
       "    <tr>\n",
       "      <th>42</th>\n",
       "      <td>NaN</td>\n",
       "      <td>NaN</td>\n",
       "      <td>ZABEOTYP</td>\n",
       "      <td>typification of energy consumers</td>\n",
       "      <td>modelled on different AZ DIAS data</td>\n",
       "    </tr>\n",
       "    <tr>\n",
       "      <th>47</th>\n",
       "      <td>NaN</td>\n",
       "      <td>NaN</td>\n",
       "      <td>HH_EINKOMMEN_SCORE</td>\n",
       "      <td>estimated household_net_income</td>\n",
       "      <td>modelled on different AZ DIAS data</td>\n",
       "    </tr>\n",
       "    <tr>\n",
       "      <th>81</th>\n",
       "      <td>NaN</td>\n",
       "      <td>NaN</td>\n",
       "      <td>KONSUMNAEHE</td>\n",
       "      <td>distance from a building to PoS (Point of Sale)</td>\n",
       "      <td>additional costs</td>\n",
       "    </tr>\n",
       "    <tr>\n",
       "      <th>85</th>\n",
       "      <td>NaN</td>\n",
       "      <td>Microcell (RR4_ID)</td>\n",
       "      <td>CAMEO_DEUG_2015</td>\n",
       "      <td>CAMEO_4.0: uppergroup</td>\n",
       "      <td>New German CAMEO Typology established together...</td>\n",
       "    </tr>\n",
       "  </tbody>\n",
       "</table>\n",
       "</div>"
      ],
      "text/plain": [
       "    Unnamed: 0   Information level              Attribute  \\\n",
       "1          NaN              Person   ALTERSKATEGORIE_GROB   \n",
       "3          NaN                 NaN          CJT_GESAMTTYP   \n",
       "4          NaN                 NaN      FINANZ_MINIMALIST   \n",
       "13         NaN                 NaN       GREEN_AVANTGARDE   \n",
       "14         NaN                 NaN             HEALTH_TYP   \n",
       "15         NaN                 NaN    LP_LEBENSPHASE_FEIN   \n",
       "16         NaN                 NaN    LP_LEBENSPHASE_GROB   \n",
       "21         NaN                 NaN       NATIONALITAET_KZ   \n",
       "22         NaN                 NaN  PRAEGENDE_JUGENDJAHRE   \n",
       "24         NaN                 NaN              SEMIO_SOZ   \n",
       "41         NaN                 NaN               VERS_TYP   \n",
       "42         NaN                 NaN               ZABEOTYP   \n",
       "47         NaN                 NaN     HH_EINKOMMEN_SCORE   \n",
       "81         NaN                 NaN            KONSUMNAEHE   \n",
       "85         NaN  Microcell (RR4_ID)        CAMEO_DEUG_2015   \n",
       "\n",
       "                                          Description  \\\n",
       "1                       age through prename analysis    \n",
       "3   Customer-Journey-Typology relating to the pref...   \n",
       "4          financial typology: low financial interest   \n",
       "13  the environmental sustainability is the domina...   \n",
       "14                                    health typology   \n",
       "15                                     lifestage fine   \n",
       "16                                    lifestage rough   \n",
       "21                                       nationaltity   \n",
       "22  dominating movement in the person's youth (ava...   \n",
       "24  affinity indicating in what way the person is ...   \n",
       "41                                insurance typology    \n",
       "42                   typification of energy consumers   \n",
       "47                    estimated household_net_income    \n",
       "81    distance from a building to PoS (Point of Sale)   \n",
       "85                              CAMEO_4.0: uppergroup   \n",
       "\n",
       "                                     Additional notes  \n",
       "1   modelled on millions of first name-age-referen...  \n",
       "3   relating to the preferred information, marketi...  \n",
       "4   Gfk-Typology based on a representative househo...  \n",
       "13  own typology based on modelled on different AZ...  \n",
       "14  in cooperation with Kantar TNS; the informatio...  \n",
       "15                 modelled on different AZ DIAS data  \n",
       "16                 modelled on different AZ DIAS data  \n",
       "21                based on analysis of the first name  \n",
       "22   own typology modelled on different AZ DIAS data   \n",
       "24  attributes in cooperation with Kantar TNS; the...  \n",
       "41                  in cooperation with TNS Infratest  \n",
       "42                 modelled on different AZ DIAS data  \n",
       "47                 modelled on different AZ DIAS data  \n",
       "81                                   additional costs  \n",
       "85  New German CAMEO Typology established together...  "
      ]
     },
     "execution_count": 94,
     "metadata": {},
     "output_type": "execute_result"
    }
   ],
   "source": [
    "attributes[(attributes['Additional notes'].notnull()) & \n",
    "           (attributes['Attribute'].isin(customers_cleaned.columns))]"
   ]
  },
  {
   "cell_type": "markdown",
   "metadata": {},
   "source": [
    "It seems that value \"9\" in the variable *ALTERSKATEORIE_GROB* should be alro recoded into NaN as it does not identify an age of a person"
   ]
  },
  {
   "cell_type": "code",
   "execution_count": 78,
   "metadata": {},
   "outputs": [
    {
     "data": {
      "text/html": [
       "<div>\n",
       "<style scoped>\n",
       "    .dataframe tbody tr th:only-of-type {\n",
       "        vertical-align: middle;\n",
       "    }\n",
       "\n",
       "    .dataframe tbody tr th {\n",
       "        vertical-align: top;\n",
       "    }\n",
       "\n",
       "    .dataframe thead th {\n",
       "        text-align: right;\n",
       "    }\n",
       "</style>\n",
       "<table border=\"1\" class=\"dataframe\">\n",
       "  <thead>\n",
       "    <tr style=\"text-align: right;\">\n",
       "      <th></th>\n",
       "      <th>Unnamed: 0</th>\n",
       "      <th>Attribute</th>\n",
       "      <th>Description</th>\n",
       "      <th>Value</th>\n",
       "      <th>Meaning</th>\n",
       "    </tr>\n",
       "  </thead>\n",
       "  <tbody>\n",
       "    <tr>\n",
       "      <th>5</th>\n",
       "      <td>NaN</td>\n",
       "      <td>ALTERSKATEGORIE_GROB</td>\n",
       "      <td>age classification through prename analysis</td>\n",
       "      <td>-1, 0</td>\n",
       "      <td>unknown</td>\n",
       "    </tr>\n",
       "    <tr>\n",
       "      <th>6</th>\n",
       "      <td>NaN</td>\n",
       "      <td>ALTERSKATEGORIE_GROB</td>\n",
       "      <td>age classification through prename analysis</td>\n",
       "      <td>1</td>\n",
       "      <td>&lt; 30 years</td>\n",
       "    </tr>\n",
       "    <tr>\n",
       "      <th>7</th>\n",
       "      <td>NaN</td>\n",
       "      <td>ALTERSKATEGORIE_GROB</td>\n",
       "      <td>age classification through prename analysis</td>\n",
       "      <td>2</td>\n",
       "      <td>30 - 45 years</td>\n",
       "    </tr>\n",
       "    <tr>\n",
       "      <th>8</th>\n",
       "      <td>NaN</td>\n",
       "      <td>ALTERSKATEGORIE_GROB</td>\n",
       "      <td>age classification through prename analysis</td>\n",
       "      <td>3</td>\n",
       "      <td>46 - 60 years</td>\n",
       "    </tr>\n",
       "    <tr>\n",
       "      <th>9</th>\n",
       "      <td>NaN</td>\n",
       "      <td>ALTERSKATEGORIE_GROB</td>\n",
       "      <td>age classification through prename analysis</td>\n",
       "      <td>4</td>\n",
       "      <td>&gt; 60 years</td>\n",
       "    </tr>\n",
       "    <tr>\n",
       "      <th>10</th>\n",
       "      <td>NaN</td>\n",
       "      <td>ALTERSKATEGORIE_GROB</td>\n",
       "      <td>age classification through prename analysis</td>\n",
       "      <td>9</td>\n",
       "      <td>uniformly distributed</td>\n",
       "    </tr>\n",
       "  </tbody>\n",
       "</table>\n",
       "</div>"
      ],
      "text/plain": [
       "    Unnamed: 0             Attribute  \\\n",
       "5          NaN  ALTERSKATEGORIE_GROB   \n",
       "6          NaN  ALTERSKATEGORIE_GROB   \n",
       "7          NaN  ALTERSKATEGORIE_GROB   \n",
       "8          NaN  ALTERSKATEGORIE_GROB   \n",
       "9          NaN  ALTERSKATEGORIE_GROB   \n",
       "10         NaN  ALTERSKATEGORIE_GROB   \n",
       "\n",
       "                                     Description  Value                Meaning  \n",
       "5   age classification through prename analysis   -1, 0                unknown  \n",
       "6   age classification through prename analysis       1             < 30 years  \n",
       "7   age classification through prename analysis       2          30 - 45 years  \n",
       "8   age classification through prename analysis       3          46 - 60 years  \n",
       "9   age classification through prename analysis       4             > 60 years  \n",
       "10  age classification through prename analysis       9  uniformly distributed  "
      ]
     },
     "execution_count": 78,
     "metadata": {},
     "output_type": "execute_result"
    }
   ],
   "source": [
    "values_filled[values_filled['Attribute'] == 'ALTERSKATEGORIE_GROB']"
   ]
  },
  {
   "cell_type": "code",
   "execution_count": 17,
   "metadata": {},
   "outputs": [],
   "source": [
    "customers_cleaned.loc[customers_cleaned['ALTERSKATEGORIE_GROB'] == 9, 'ALTERSKATEGORIE_GROB'] = np.nan"
   ]
  },
  {
   "cell_type": "markdown",
   "metadata": {},
   "source": [
    "A similar situation is observed with *HEALTH_TYP*; value \"0\" should be recoded into NaN"
   ]
  },
  {
   "cell_type": "code",
   "execution_count": 92,
   "metadata": {
    "scrolled": true
   },
   "outputs": [
    {
     "data": {
      "text/html": [
       "<div>\n",
       "<style scoped>\n",
       "    .dataframe tbody tr th:only-of-type {\n",
       "        vertical-align: middle;\n",
       "    }\n",
       "\n",
       "    .dataframe tbody tr th {\n",
       "        vertical-align: top;\n",
       "    }\n",
       "\n",
       "    .dataframe thead th {\n",
       "        text-align: right;\n",
       "    }\n",
       "</style>\n",
       "<table border=\"1\" class=\"dataframe\">\n",
       "  <thead>\n",
       "    <tr style=\"text-align: right;\">\n",
       "      <th></th>\n",
       "      <th>Unnamed: 0</th>\n",
       "      <th>Attribute</th>\n",
       "      <th>Description</th>\n",
       "      <th>Value</th>\n",
       "      <th>Meaning</th>\n",
       "    </tr>\n",
       "  </thead>\n",
       "  <tbody>\n",
       "    <tr>\n",
       "      <th>744</th>\n",
       "      <td>NaN</td>\n",
       "      <td>HEALTH_TYP</td>\n",
       "      <td>health typology</td>\n",
       "      <td>-1</td>\n",
       "      <td>unknown</td>\n",
       "    </tr>\n",
       "    <tr>\n",
       "      <th>745</th>\n",
       "      <td>NaN</td>\n",
       "      <td>HEALTH_TYP</td>\n",
       "      <td>health typology</td>\n",
       "      <td>0</td>\n",
       "      <td>classification not possible</td>\n",
       "    </tr>\n",
       "    <tr>\n",
       "      <th>746</th>\n",
       "      <td>NaN</td>\n",
       "      <td>HEALTH_TYP</td>\n",
       "      <td>health typology</td>\n",
       "      <td>1</td>\n",
       "      <td>critical reserved</td>\n",
       "    </tr>\n",
       "    <tr>\n",
       "      <th>747</th>\n",
       "      <td>NaN</td>\n",
       "      <td>HEALTH_TYP</td>\n",
       "      <td>health typology</td>\n",
       "      <td>2</td>\n",
       "      <td>sanitary affine</td>\n",
       "    </tr>\n",
       "    <tr>\n",
       "      <th>748</th>\n",
       "      <td>NaN</td>\n",
       "      <td>HEALTH_TYP</td>\n",
       "      <td>health typology</td>\n",
       "      <td>3</td>\n",
       "      <td>jaunty hedonists</td>\n",
       "    </tr>\n",
       "  </tbody>\n",
       "</table>\n",
       "</div>"
      ],
      "text/plain": [
       "     Unnamed: 0   Attribute      Description Value  \\\n",
       "744         NaN  HEALTH_TYP  health typology    -1   \n",
       "745         NaN  HEALTH_TYP  health typology     0   \n",
       "746         NaN  HEALTH_TYP  health typology     1   \n",
       "747         NaN  HEALTH_TYP  health typology     2   \n",
       "748         NaN  HEALTH_TYP  health typology     3   \n",
       "\n",
       "                         Meaning  \n",
       "744                      unknown  \n",
       "745  classification not possible  \n",
       "746           critical reserved   \n",
       "747            sanitary affine    \n",
       "748            jaunty hedonists   "
      ]
     },
     "execution_count": 92,
     "metadata": {},
     "output_type": "execute_result"
    }
   ],
   "source": [
    "values_filled[values_filled['Attribute'] == 'HEALTH_TYP']"
   ]
  },
  {
   "cell_type": "code",
   "execution_count": 18,
   "metadata": {},
   "outputs": [],
   "source": [
    "customers_cleaned.loc[customers_cleaned['HEALTH_TYP'] == 0, 'HEALTH_TYP'] = np.nan"
   ]
  },
  {
   "cell_type": "markdown",
   "metadata": {},
   "source": [
    "Also, in the datasets there are some variables having label *FEIN* or *GROB* in the titles. Actually, they represent the same information, but *FEIN* variables are more granulated. I am dropping the *FEIN* variables from the datasets."
   ]
  },
  {
   "cell_type": "code",
   "execution_count": 99,
   "metadata": {},
   "outputs": [
    {
     "data": {
      "text/plain": [
       "['LP_FAMILIE_FEIN', 'LP_LEBENSPHASE_FEIN', 'LP_STATUS_FEIN']"
      ]
     },
     "execution_count": 99,
     "metadata": {},
     "output_type": "execute_result"
    }
   ],
   "source": [
    "[col for col in customers_cleaned.columns if 'FEIN' in col]"
   ]
  },
  {
   "cell_type": "code",
   "execution_count": 100,
   "metadata": {},
   "outputs": [
    {
     "data": {
      "text/plain": [
       "['ALTERSKATEGORIE_GROB',\n",
       " 'LP_FAMILIE_GROB',\n",
       " 'LP_LEBENSPHASE_GROB',\n",
       " 'LP_STATUS_GROB']"
      ]
     },
     "execution_count": 100,
     "metadata": {},
     "output_type": "execute_result"
    }
   ],
   "source": [
    "[col for col in customers_cleaned.columns if 'GROB' in col]"
   ]
  },
  {
   "cell_type": "code",
   "execution_count": 19,
   "metadata": {},
   "outputs": [],
   "source": [
    "fein_columns = [col for col in customers_cleaned.columns if 'FEIN' in col]"
   ]
  },
  {
   "cell_type": "code",
   "execution_count": 20,
   "metadata": {},
   "outputs": [],
   "source": [
    "customers_cleaned = customers_cleaned.drop(fein_columns, axis = 1)"
   ]
  },
  {
   "cell_type": "markdown",
   "metadata": {},
   "source": [
    "Another variable that should be recoded is called *PRAEGENDE_JUGENDAHRE*. It simultaneously represents the information of the decade when a person was born and says as well if a person has taken part in any political movements. I am transforming this varibale into two new variables: *decade* and *movement*."
   ]
  },
  {
   "cell_type": "code",
   "execution_count": 114,
   "metadata": {},
   "outputs": [
    {
     "data": {
      "text/html": [
       "<div>\n",
       "<style scoped>\n",
       "    .dataframe tbody tr th:only-of-type {\n",
       "        vertical-align: middle;\n",
       "    }\n",
       "\n",
       "    .dataframe tbody tr th {\n",
       "        vertical-align: top;\n",
       "    }\n",
       "\n",
       "    .dataframe thead th {\n",
       "        text-align: right;\n",
       "    }\n",
       "</style>\n",
       "<table border=\"1\" class=\"dataframe\">\n",
       "  <thead>\n",
       "    <tr style=\"text-align: right;\">\n",
       "      <th></th>\n",
       "      <th>Unnamed: 0</th>\n",
       "      <th>Attribute</th>\n",
       "      <th>Description</th>\n",
       "      <th>Value</th>\n",
       "      <th>Meaning</th>\n",
       "    </tr>\n",
       "  </thead>\n",
       "  <tbody>\n",
       "    <tr>\n",
       "      <th>2054</th>\n",
       "      <td>NaN</td>\n",
       "      <td>PRAEGENDE_JUGENDJAHRE</td>\n",
       "      <td>dominating movement in the person's youth (ava...</td>\n",
       "      <td>-1, 0</td>\n",
       "      <td>unknown</td>\n",
       "    </tr>\n",
       "    <tr>\n",
       "      <th>2055</th>\n",
       "      <td>NaN</td>\n",
       "      <td>PRAEGENDE_JUGENDJAHRE</td>\n",
       "      <td>dominating movement in the person's youth (ava...</td>\n",
       "      <td>1</td>\n",
       "      <td>40ies - war years (Mainstream, O+W)</td>\n",
       "    </tr>\n",
       "    <tr>\n",
       "      <th>2056</th>\n",
       "      <td>NaN</td>\n",
       "      <td>PRAEGENDE_JUGENDJAHRE</td>\n",
       "      <td>dominating movement in the person's youth (ava...</td>\n",
       "      <td>2</td>\n",
       "      <td>40ies - reconstruction years (Avantgarde, O+W)</td>\n",
       "    </tr>\n",
       "    <tr>\n",
       "      <th>2057</th>\n",
       "      <td>NaN</td>\n",
       "      <td>PRAEGENDE_JUGENDJAHRE</td>\n",
       "      <td>dominating movement in the person's youth (ava...</td>\n",
       "      <td>3</td>\n",
       "      <td>50ies - economic miracle (Mainstream, O+W)</td>\n",
       "    </tr>\n",
       "    <tr>\n",
       "      <th>2058</th>\n",
       "      <td>NaN</td>\n",
       "      <td>PRAEGENDE_JUGENDJAHRE</td>\n",
       "      <td>dominating movement in the person's youth (ava...</td>\n",
       "      <td>4</td>\n",
       "      <td>50ies - milk bar / Individualisation (Avantgar...</td>\n",
       "    </tr>\n",
       "    <tr>\n",
       "      <th>2059</th>\n",
       "      <td>NaN</td>\n",
       "      <td>PRAEGENDE_JUGENDJAHRE</td>\n",
       "      <td>dominating movement in the person's youth (ava...</td>\n",
       "      <td>5</td>\n",
       "      <td>60ies - economic miracle (Mainstream, O+W)</td>\n",
       "    </tr>\n",
       "    <tr>\n",
       "      <th>2060</th>\n",
       "      <td>NaN</td>\n",
       "      <td>PRAEGENDE_JUGENDJAHRE</td>\n",
       "      <td>dominating movement in the person's youth (ava...</td>\n",
       "      <td>6</td>\n",
       "      <td>60ies - generation 68 / student protestors (Av...</td>\n",
       "    </tr>\n",
       "    <tr>\n",
       "      <th>2061</th>\n",
       "      <td>NaN</td>\n",
       "      <td>PRAEGENDE_JUGENDJAHRE</td>\n",
       "      <td>dominating movement in the person's youth (ava...</td>\n",
       "      <td>7</td>\n",
       "      <td>60ies - opponents to the building of the Wall ...</td>\n",
       "    </tr>\n",
       "    <tr>\n",
       "      <th>2062</th>\n",
       "      <td>NaN</td>\n",
       "      <td>PRAEGENDE_JUGENDJAHRE</td>\n",
       "      <td>dominating movement in the person's youth (ava...</td>\n",
       "      <td>8</td>\n",
       "      <td>70ies - family orientation (Mainstream, O+W)</td>\n",
       "    </tr>\n",
       "    <tr>\n",
       "      <th>2063</th>\n",
       "      <td>NaN</td>\n",
       "      <td>PRAEGENDE_JUGENDJAHRE</td>\n",
       "      <td>dominating movement in the person's youth (ava...</td>\n",
       "      <td>9</td>\n",
       "      <td>70ies - peace movement (Avantgarde, O+W)</td>\n",
       "    </tr>\n",
       "    <tr>\n",
       "      <th>2064</th>\n",
       "      <td>NaN</td>\n",
       "      <td>PRAEGENDE_JUGENDJAHRE</td>\n",
       "      <td>dominating movement in the person's youth (ava...</td>\n",
       "      <td>10</td>\n",
       "      <td>80ies - Generation Golf (Mainstream, W)</td>\n",
       "    </tr>\n",
       "    <tr>\n",
       "      <th>2065</th>\n",
       "      <td>NaN</td>\n",
       "      <td>PRAEGENDE_JUGENDJAHRE</td>\n",
       "      <td>dominating movement in the person's youth (ava...</td>\n",
       "      <td>11</td>\n",
       "      <td>80ies - ecological awareness (Avantgarde, W)</td>\n",
       "    </tr>\n",
       "    <tr>\n",
       "      <th>2066</th>\n",
       "      <td>NaN</td>\n",
       "      <td>PRAEGENDE_JUGENDJAHRE</td>\n",
       "      <td>dominating movement in the person's youth (ava...</td>\n",
       "      <td>12</td>\n",
       "      <td>80ies - FDJ / communist party youth organisati...</td>\n",
       "    </tr>\n",
       "    <tr>\n",
       "      <th>2067</th>\n",
       "      <td>NaN</td>\n",
       "      <td>PRAEGENDE_JUGENDJAHRE</td>\n",
       "      <td>dominating movement in the person's youth (ava...</td>\n",
       "      <td>13</td>\n",
       "      <td>80ies - Swords into ploughshares (Avantgarde, O)</td>\n",
       "    </tr>\n",
       "    <tr>\n",
       "      <th>2068</th>\n",
       "      <td>NaN</td>\n",
       "      <td>PRAEGENDE_JUGENDJAHRE</td>\n",
       "      <td>dominating movement in the person's youth (ava...</td>\n",
       "      <td>14</td>\n",
       "      <td>90ies - digital media kids (Mainstream, O+W)</td>\n",
       "    </tr>\n",
       "    <tr>\n",
       "      <th>2069</th>\n",
       "      <td>NaN</td>\n",
       "      <td>PRAEGENDE_JUGENDJAHRE</td>\n",
       "      <td>dominating movement in the person's youth (ava...</td>\n",
       "      <td>15</td>\n",
       "      <td>90ies - ecological awareness (Avantgarde, O+W)</td>\n",
       "    </tr>\n",
       "  </tbody>\n",
       "</table>\n",
       "</div>"
      ],
      "text/plain": [
       "      Unnamed: 0              Attribute  \\\n",
       "2054         NaN  PRAEGENDE_JUGENDJAHRE   \n",
       "2055         NaN  PRAEGENDE_JUGENDJAHRE   \n",
       "2056         NaN  PRAEGENDE_JUGENDJAHRE   \n",
       "2057         NaN  PRAEGENDE_JUGENDJAHRE   \n",
       "2058         NaN  PRAEGENDE_JUGENDJAHRE   \n",
       "2059         NaN  PRAEGENDE_JUGENDJAHRE   \n",
       "2060         NaN  PRAEGENDE_JUGENDJAHRE   \n",
       "2061         NaN  PRAEGENDE_JUGENDJAHRE   \n",
       "2062         NaN  PRAEGENDE_JUGENDJAHRE   \n",
       "2063         NaN  PRAEGENDE_JUGENDJAHRE   \n",
       "2064         NaN  PRAEGENDE_JUGENDJAHRE   \n",
       "2065         NaN  PRAEGENDE_JUGENDJAHRE   \n",
       "2066         NaN  PRAEGENDE_JUGENDJAHRE   \n",
       "2067         NaN  PRAEGENDE_JUGENDJAHRE   \n",
       "2068         NaN  PRAEGENDE_JUGENDJAHRE   \n",
       "2069         NaN  PRAEGENDE_JUGENDJAHRE   \n",
       "\n",
       "                                            Description  Value  \\\n",
       "2054  dominating movement in the person's youth (ava...  -1, 0   \n",
       "2055  dominating movement in the person's youth (ava...      1   \n",
       "2056  dominating movement in the person's youth (ava...      2   \n",
       "2057  dominating movement in the person's youth (ava...      3   \n",
       "2058  dominating movement in the person's youth (ava...      4   \n",
       "2059  dominating movement in the person's youth (ava...      5   \n",
       "2060  dominating movement in the person's youth (ava...      6   \n",
       "2061  dominating movement in the person's youth (ava...      7   \n",
       "2062  dominating movement in the person's youth (ava...      8   \n",
       "2063  dominating movement in the person's youth (ava...      9   \n",
       "2064  dominating movement in the person's youth (ava...     10   \n",
       "2065  dominating movement in the person's youth (ava...     11   \n",
       "2066  dominating movement in the person's youth (ava...     12   \n",
       "2067  dominating movement in the person's youth (ava...     13   \n",
       "2068  dominating movement in the person's youth (ava...     14   \n",
       "2069  dominating movement in the person's youth (ava...     15   \n",
       "\n",
       "                                                Meaning  \n",
       "2054                                            unknown  \n",
       "2055                40ies - war years (Mainstream, O+W)  \n",
       "2056     40ies - reconstruction years (Avantgarde, O+W)  \n",
       "2057         50ies - economic miracle (Mainstream, O+W)  \n",
       "2058  50ies - milk bar / Individualisation (Avantgar...  \n",
       "2059         60ies - economic miracle (Mainstream, O+W)  \n",
       "2060  60ies - generation 68 / student protestors (Av...  \n",
       "2061  60ies - opponents to the building of the Wall ...  \n",
       "2062       70ies - family orientation (Mainstream, O+W)  \n",
       "2063           70ies - peace movement (Avantgarde, O+W)  \n",
       "2064            80ies - Generation Golf (Mainstream, W)  \n",
       "2065       80ies - ecological awareness (Avantgarde, W)  \n",
       "2066  80ies - FDJ / communist party youth organisati...  \n",
       "2067   80ies - Swords into ploughshares (Avantgarde, O)  \n",
       "2068       90ies - digital media kids (Mainstream, O+W)  \n",
       "2069     90ies - ecological awareness (Avantgarde, O+W)  "
      ]
     },
     "execution_count": 114,
     "metadata": {},
     "output_type": "execute_result"
    }
   ],
   "source": [
    "values_filled[values_filled['Attribute'] == 'PRAEGENDE_JUGENDJAHRE']"
   ]
  },
  {
   "cell_type": "code",
   "execution_count": 21,
   "metadata": {},
   "outputs": [],
   "source": [
    "customers_cleaned['decade'] = customers_cleaned['PRAEGENDE_JUGENDJAHRE'].apply(lambda dec : \n",
    "                                                   40 if dec in [1,2]\n",
    "                                                   else 50 if dec in [3,4]\n",
    "                                                   else 60 if dec in np.arange(5,8)\n",
    "                                                   else 70 if dec in [8,9]\n",
    "                                                   else 80 if dec in np.arange(10,14)\n",
    "                                                   else 90 if dec in [14,15]\n",
    "                                                   else np.nan)"
   ]
  },
  {
   "cell_type": "code",
   "execution_count": 22,
   "metadata": {},
   "outputs": [],
   "source": [
    "customers_cleaned['movement'] = customers_cleaned['PRAEGENDE_JUGENDJAHRE'].apply(lambda mov : \n",
    "                                                   0 if mov in [1,3,5,8,10,12,14]\n",
    "                                                   else 1 if mov in [2,4,6,7,9,11,13,15]\n",
    "                                                   else np.nan)"
   ]
  },
  {
   "cell_type": "code",
   "execution_count": 23,
   "metadata": {},
   "outputs": [],
   "source": [
    "# dropping the original variable\n",
    "customers_cleaned = customers_cleaned.drop('PRAEGENDE_JUGENDJAHRE', axis = 1)"
   ]
  },
  {
   "cell_type": "markdown",
   "metadata": {},
   "source": [
    "Now, I can make a function that would apply all the recoding and cleaning operations to the second dataset."
   ]
  },
  {
   "cell_type": "code",
   "execution_count": 9,
   "metadata": {},
   "outputs": [],
   "source": [
    "def clean_recode(df):\n",
    "    \"\"\"\n",
    "    The function recodes the categorical variables and removes some redundant variables\n",
    "\n",
    "    Arguments:\n",
    "        df: pandas DataFrame\n",
    "\n",
    "    Returns:\n",
    "        Pandas DataFrame with recoded and removed variables\n",
    "    \"\"\"\n",
    "    \n",
    "    print('recoding missing values')\n",
    "    \n",
    "    df.loc[df['CAMEO_DEUG_2015'] == 'X', 'CAMEO_DEUG_2015'] = np.nan\n",
    "    df.loc[df['ALTERSKATEGORIE_GROB'] == 9, 'ALTERSKATEGORIE_GROB'] = np.nan\n",
    "    \n",
    "    df['CAMEO_DEUG_2015'] = df['CAMEO_DEUG_2015'].astype('float64')\n",
    "    \n",
    "    print('making a dummy variable')\n",
    "    \n",
    "    west_ost = pd.get_dummies(df['OST_WEST_KZ'], dummy_na = True, drop_first = True)\n",
    "    west_ost.columns = ['W', 'nans']\n",
    "    west_ost.loc[west_ost['nans'] == 1, 'W'] = np.nan\n",
    "    west_ost = west_ost.drop('nans', axis = 1)\n",
    "    df = pd.concat([df, west_ost], axis = 1)\n",
    "    \n",
    "    print('making a decade and movement variables')\n",
    "    \n",
    "    df['decade'] = df['PRAEGENDE_JUGENDJAHRE'].apply(lambda dec : \n",
    "                                                   40 if dec in [1,2]\n",
    "                                                   else 50 if dec in [3,4]\n",
    "                                                   else 60 if dec in np.arange(5,8)\n",
    "                                                   else 70 if dec in [8,9]\n",
    "                                                   else 80 if dec in np.arange(10,14)\n",
    "                                                   else 90 if dec in [14,15]\n",
    "                                                   else np.nan)\n",
    "    \n",
    "    df['movement'] = df['PRAEGENDE_JUGENDJAHRE'].apply(lambda mov : \n",
    "                                                   0 if mov in [1,3,5,8,10,12,14]\n",
    "                                                   else 1 if mov in [2,4,6,7,9,11,13,15]\n",
    "                                                   else np.nan)\n",
    "    \n",
    "    print('removing redundant variables')\n",
    "    \n",
    "    df = df.drop(['CAMEO_DEU_2015', 'OST_WEST_KZ', 'PRAEGENDE_JUGENDJAHRE'], axis = 1)\n",
    "    \n",
    "    fein_columns = [col for col in df.columns if 'FEIN' in col]\n",
    "    df = df.drop(fein_columns, axis = 1)\n",
    "    \n",
    "    return df"
   ]
  },
  {
   "cell_type": "code",
   "execution_count": 27,
   "metadata": {},
   "outputs": [
    {
     "name": "stdout",
     "output_type": "stream",
     "text": [
      "recoding missing values\n",
      "making a dummy variable\n",
      "making a decade and movement variables\n",
      "removing redundant variables\n"
     ]
    }
   ],
   "source": [
    "# applying the function to the azdias dataset\n",
    "azdias_cleaned_fin = clean_recode(azdias_cleaned)"
   ]
  },
  {
   "cell_type": "code",
   "execution_count": 30,
   "metadata": {},
   "outputs": [],
   "source": [
    "customers_cleaned.to_csv('customers_cleaned_fin.csv')"
   ]
  },
  {
   "cell_type": "code",
   "execution_count": 31,
   "metadata": {},
   "outputs": [],
   "source": [
    "azdias_cleaned_fin.to_csv('azdias_cleaned_fin.csv')"
   ]
  },
  {
   "cell_type": "code",
   "execution_count": 10,
   "metadata": {},
   "outputs": [],
   "source": [
    "azdias_fin = pd.read_csv('azdias_cleaned_fin.csv', index_col=0)"
   ]
  },
  {
   "cell_type": "code",
   "execution_count": 18,
   "metadata": {},
   "outputs": [],
   "source": [
    "customers_fin = pd.read_csv('customers_cleaned_fin.csv', index_col=0)"
   ]
  },
  {
   "cell_type": "markdown",
   "metadata": {},
   "source": [
    "## Part 1: Customer Segmentation Report\n",
    "\n",
    "The main bulk of your analysis will come in this part of the project. Here, you should use unsupervised learning techniques to describe the relationship between the demographics of the company's existing customers and the general population of Germany. By the end of this part, you should be able to describe parts of the general population that are more likely to be part of the mail-order company's main customer base, and which parts of the general population are less so."
   ]
  },
  {
   "cell_type": "markdown",
   "metadata": {},
   "source": [
    "Before applying any unsupervised methods to the cleaned datasets, I need to impute all missing values and rescale the data. I will start with the demographics data."
   ]
  },
  {
   "cell_type": "code",
   "execution_count": 11,
   "metadata": {},
   "outputs": [],
   "source": [
    "impute = SimpleImputer(missing_values=np.nan, strategy='most_frequent')\n",
    "scaler = StandardScaler() \n",
    "azdias_fin = pd.DataFrame(impute.fit_transform(azdias_fin), columns = azdias_fin.columns)\n",
    "azdias_fin = pd.DataFrame(scaler.fit_transform(azdias_fin), columns = azdias_fin.columns)"
   ]
  },
  {
   "cell_type": "code",
   "execution_count": 19,
   "metadata": {},
   "outputs": [],
   "source": [
    "customers_fin = pd.DataFrame(impute.fit_transform(customers_fin), columns = customers_fin.columns)\n",
    "customers_fin = pd.DataFrame(scaler.fit_transform(customers_fin), columns = customers_fin.columns)"
   ]
  },
  {
   "cell_type": "markdown",
   "metadata": {},
   "source": [
    "### PCA"
   ]
  },
  {
   "cell_type": "markdown",
   "metadata": {},
   "source": [
    "After imputing missing values and rescaling data, I can move to the next step where I will reduce dimensionality of the data with help of PCA."
   ]
  },
  {
   "cell_type": "code",
   "execution_count": 27,
   "metadata": {},
   "outputs": [],
   "source": [
    "pca = PCA()\n",
    "azdias_pca = pca.fit_transform(azdias_fin)"
   ]
  },
  {
   "cell_type": "code",
   "execution_count": 10,
   "metadata": {},
   "outputs": [
    {
     "data": {
      "text/plain": [
       "[Text(0,0.5,'Explained variance of each component'), Text(0.5,0,'Components')]"
      ]
     },
     "execution_count": 10,
     "metadata": {},
     "output_type": "execute_result"
    },
    {
     "data": {
      "image/png": "[encoded data removed]",
      "text/plain": [
       "<matplotlib.figure.Figure at 0x7f3d2bd4f9b0>"
      ]
     },
     "metadata": {},
     "output_type": "display_data"
    }
   ],
   "source": [
    "sns.set(rc={'figure.figsize':(10,6)})\n",
    "ax = sns.barplot(x=np.arange(0,len(pca.explained_variance_ratio_)), y=pca.explained_variance_ratio_, color = 'blue')\n",
    "ax.set(xlabel='Components', ylabel='Explained variance of each component')"
   ]
  },
  {
   "cell_type": "code",
   "execution_count": 11,
   "metadata": {},
   "outputs": [
    {
     "data": {
      "text/plain": [
       "Text(0,0.5,'cumulative explained variance')"
      ]
     },
     "execution_count": 11,
     "metadata": {},
     "output_type": "execute_result"
    },
    {
     "data": {
      "image/png": "[encoded data removed]",
      "text/plain": [
       "<matplotlib.figure.Figure at 0x7f3d2bc68080>"
      ]
     },
     "metadata": {},
     "output_type": "display_data"
    }
   ],
   "source": [
    "plt.plot(np.cumsum(pca.explained_variance_ratio_))\n",
    "plt.xlabel('number of components')\n",
    "plt.ylabel('cumulative explained variance')"
   ]
  },
  {
   "cell_type": "code",
   "execution_count": 28,
   "metadata": {},
   "outputs": [
    {
     "data": {
      "text/plain": [
       "array([ 0.08446572,  0.15176504,  0.19394215,  0.22697395,  0.25467901,\n",
       "        0.28228044,  0.3071732 ,  0.32912257,  0.34902734,  0.36797148,\n",
       "        0.38434616,  0.39957358,  0.41446177,  0.42794511,  0.4406132 ,\n",
       "        0.45265827,  0.4642365 ,  0.4751217 ,  0.48536075,  0.49536682,\n",
       "        0.50503058,  0.51429671,  0.5231542 ,  0.53152247,  0.53969483,\n",
       "        0.54761064,  0.5551626 ,  0.56233981,  0.56949521,  0.57644792,\n",
       "        0.58326942,  0.58984897,  0.59618362,  0.60246605,  0.60867866,\n",
       "        0.61477158,  0.62081886,  0.62668541,  0.63251581,  0.63827363,\n",
       "        0.64399571,  0.64967968,  0.65516898,  0.66047158,  0.66572742,\n",
       "        0.67075742,  0.67572311,  0.68058898,  0.68530994,  0.69001117,\n",
       "        0.69467249,  0.69924081,  0.70378088,  0.70819752,  0.71257861,\n",
       "        0.71686738,  0.72106784,  0.72525646,  0.72935251,  0.73342537,\n",
       "        0.73746042,  0.74141881,  0.7453627 ,  0.74926956,  0.75310313,\n",
       "        0.75688921,  0.76066977,  0.76439674,  0.76811149,  0.77175239,\n",
       "        0.77533795,  0.77890523,  0.78245203,  0.78597169,  0.78945318,\n",
       "        0.79288775,  0.79629794,  0.79962674,  0.80292936,  0.80620398])"
      ]
     },
     "execution_count": 28,
     "metadata": {},
     "output_type": "execute_result"
    }
   ],
   "source": [
    "pca.explained_variance_ratio_.cumsum()[0:80]"
   ]
  },
  {
   "cell_type": "markdown",
   "metadata": {},
   "source": [
    "Based on the charts, I can conclude that choosing 80 components will allow me to save most of the information from my data (80%) and significantly reduce number of dimensions. "
   ]
  },
  {
   "cell_type": "code",
   "execution_count": 12,
   "metadata": {},
   "outputs": [],
   "source": [
    "pca = PCA(n_components = 80)\n",
    "azdias_pca = pca.fit_transform(azdias_fin)"
   ]
  },
  {
   "cell_type": "code",
   "execution_count": null,
   "metadata": {},
   "outputs": [],
   "source": [
    "# applying pca to customers data\n",
    "customers_pca = pca.transform(customers_fin)"
   ]
  },
  {
   "cell_type": "markdown",
   "metadata": {},
   "source": [
    "As the main goal of the analysis is to understand which groups of German citizens are overrepresented and underrepresented in the customer base, I need to interpret which exactly demographic characteristics are caught by the principal components. Fot that, I will take the first 3 components and will explore which features correlate positviely and negatively with each of these components."
   ]
  },
  {
   "cell_type": "code",
   "execution_count": 22,
   "metadata": {},
   "outputs": [],
   "source": [
    "def map_pca_features(df, pca, component):\n",
    "    \"\"\"\n",
    "    The function sorts features for the components based on the correlation values\n",
    "\n",
    "    Arguments:\n",
    "        df: pandas DataFrame\n",
    "        pca: output of PCA function\n",
    "        component: number of a component\n",
    "        \n",
    "\n",
    "    Returns:\n",
    "        features names and correlation values sorted in a descending way\n",
    "    \"\"\"\n",
    "    comp_weights = pd.DataFrame(pca.components_, columns=df.columns.values)\n",
    "    return comp_weights.iloc[number_comp].sort_values(ascending=False)"
   ]
  },
  {
   "cell_type": "code",
   "execution_count": 45,
   "metadata": {},
   "outputs": [
    {
     "data": {
      "text/plain": [
       "PLZ8_ANTG1        0.138950\n",
       "LP_STATUS_GROB    0.127584\n",
       "MOBI_REGIO        0.123153\n",
       "PLZ8_GBZ          0.120669\n",
       "KBA05_GBZ         0.120157\n",
       "Name: 0, dtype: float64"
      ]
     },
     "execution_count": 45,
     "metadata": {},
     "output_type": "execute_result"
    }
   ],
   "source": [
    "map_pca_features(azdias_fin, pca, 0).head()"
   ]
  },
  {
   "cell_type": "code",
   "execution_count": 46,
   "metadata": {},
   "outputs": [
    {
     "data": {
      "text/plain": [
       "KBA13_ALTERHALTER_30   -0.121358\n",
       "KBA13_HALTER_30        -0.122371\n",
       "HH_EINKOMMEN_SCORE     -0.123800\n",
       "PLZ8_ANTG3             -0.130280\n",
       "CAMEO_DEUG_2015        -0.142276\n",
       "Name: 0, dtype: float64"
      ]
     },
     "execution_count": 46,
     "metadata": {},
     "output_type": "execute_result"
    }
   ],
   "source": [
    "map_pca_features(azdias_fin, pca, 0).tail()"
   ]
  },
  {
   "cell_type": "markdown",
   "metadata": {},
   "source": [
    "Based on these features, I can say that the first component represents people with a quite high income living in a good neighborhood. They are rather houseowners or top earners (LP_STATUS_GROB), they possess relatively expensive cars (rather Gelendwagen or BMW than middle class class). Another important specific feature of these people is that they are not prone to mobility and are rather settled in the location where they live (MOBI_REGIO). The high correlation with the feature PLZ8_ANTG1 (number of 1-2 family houses in the PLZ8) tells us that these people live outside the city and possess a private house for 1 or 2 families. "
   ]
  },
  {
   "cell_type": "code",
   "execution_count": 47,
   "metadata": {},
   "outputs": [
    {
     "data": {
      "text/plain": [
       "EWDICHTE                       0.173626\n",
       "ORTSGR_KLS9                    0.172953\n",
       "KBA13_HERST_BMW_BENZ           0.160463\n",
       "KBA13_SEG_OBEREMITTELKLASSE    0.144009\n",
       "PLZ8_ANTG3                     0.142114\n",
       "Name: 1, dtype: float64"
      ]
     },
     "execution_count": 47,
     "metadata": {},
     "output_type": "execute_result"
    }
   ],
   "source": [
    "map_pca_features(azdias_fin, pca, 1).head()"
   ]
  },
  {
   "cell_type": "code",
   "execution_count": 48,
   "metadata": {},
   "outputs": [
    {
     "data": {
      "text/plain": [
       "KBA13_HALTER_20        -0.142821\n",
       "KBA13_HALTER_50        -0.151983\n",
       "KBA13_AUTOQUOTE        -0.153592\n",
       "KBA13_HALTER_55        -0.157205\n",
       "KBA13_ALTERHALTER_60   -0.173030\n",
       "Name: 1, dtype: float64"
      ]
     },
     "execution_count": 48,
     "metadata": {},
     "output_type": "execute_result"
    }
   ],
   "source": [
    "map_pca_features(azdias_fin, pca, 1).tail()"
   ]
  },
  {
   "cell_type": "markdown",
   "metadata": {},
   "source": [
    "The second component represents also people from upper-class, but, comparing to the first component, they live in big cities (I make this conclusion on the base of the negative correlation with PLZ8_ANTG1 and the high correlation with EWDICHTE -- density of inhabitants per square kilometer). Moreover, the negative correlation of this component with the feature INNENSTADT tells us that these people live rather in the centre of the big city. The high correlation with features KBA13_HERST_BMW_BENZ and KBA13_SEG_OBEREMITTELKLASSE tells us that the people possess quite expensive cars and rather relate to upper class."
   ]
  },
  {
   "cell_type": "code",
   "execution_count": 49,
   "metadata": {},
   "outputs": [
    {
     "data": {
      "text/plain": [
       "ALTERSKATEGORIE_GROB    0.234114\n",
       "FINANZ_VORSORGER        0.207554\n",
       "SEMIO_ERL               0.181393\n",
       "SEMIO_LUST              0.154180\n",
       "RETOURTYP_BK_S          0.142516\n",
       "Name: 2, dtype: float64"
      ]
     },
     "execution_count": 49,
     "metadata": {},
     "output_type": "execute_result"
    }
   ],
   "source": [
    "map_pca_features(azdias_fin, pca, 2).head()"
   ]
  },
  {
   "cell_type": "code",
   "execution_count": 50,
   "metadata": {},
   "outputs": [
    {
     "data": {
      "text/plain": [
       "SEMIO_PFLICHT           -0.226203\n",
       "SEMIO_REL               -0.232986\n",
       "FINANZ_UNAUFFAELLIGER   -0.239210\n",
       "decade                  -0.245370\n",
       "FINANZ_SPARER           -0.250196\n",
       "Name: 2, dtype: float64"
      ]
     },
     "execution_count": 50,
     "metadata": {},
     "output_type": "execute_result"
    }
   ],
   "source": [
    "map_pca_features(azdias_fin, pca, 2).tail()"
   ]
  },
  {
   "cell_type": "markdown",
   "metadata": {},
   "source": [
    "The third component represents senior people (ALTERSKATEGORIE_GROB), who have financial difficulties (FINANZ_VORSORGER), are not prone to visiting different events (SEMIO_ERL), not self-minded (SEMIO_LUST), rather dutyfull traditional minded (SEMIO_PFLICHT), religious (SEMIO_REL)."
   ]
  },
  {
   "cell_type": "markdown",
   "metadata": {},
   "source": [
    "### Clustering"
   ]
  },
  {
   "cell_type": "markdown",
   "metadata": {},
   "source": [
    "Before experimenting with different values for KMeans algorithm, I wanna explore how my data looks like. As I have many dimensions, I am choosing t-SNE algorithm for visualization. This algorithm allows to visualize high-dimensional data on a two-dimensional map. Here's the [article](https://towardsdatascience.com/visualising-high-dimensional-datasets-using-pca-and-t-sne-in-python-8ef87e7915b) based on which I applied t-SNE to my data."
   ]
  },
  {
   "cell_type": "code",
   "execution_count": 13,
   "metadata": {},
   "outputs": [],
   "source": [
    "# data is too big and I don't have enough computational power to apply t-SNE to the whole dataset, so I choose  \n",
    "# randomly 50000 observations \n",
    "N = 50000\n",
    "rndperm = np.random.permutation(pd.DataFrame(azdias_pca).shape[0])\n",
    "pca_subset = pd.DataFrame(azdias_pca).loc[rndperm[:N],:].copy()"
   ]
  },
  {
   "cell_type": "code",
   "execution_count": 14,
   "metadata": {},
   "outputs": [
    {
     "name": "stdout",
     "output_type": "stream",
     "text": [
      "[t-SNE] Computing 121 nearest neighbors...\n",
      "[t-SNE] Indexed 50000 samples in 2.950s...\n",
      "[t-SNE] Computed neighbors for 50000 samples in 935.310s...\n",
      "[t-SNE] Computed conditional probabilities for sample 1000 / 50000\n",
      "[t-SNE] Computed conditional probabilities for sample 2000 / 50000\n",
      "[t-SNE] Computed conditional probabilities for sample 3000 / 50000\n",
      "[t-SNE] Computed conditional probabilities for sample 4000 / 50000\n",
      "[t-SNE] Computed conditional probabilities for sample 5000 / 50000\n",
      "[t-SNE] Computed conditional probabilities for sample 6000 / 50000\n",
      "[t-SNE] Computed conditional probabilities for sample 7000 / 50000\n",
      "[t-SNE] Computed conditional probabilities for sample 8000 / 50000\n",
      "[t-SNE] Computed conditional probabilities for sample 9000 / 50000\n",
      "[t-SNE] Computed conditional probabilities for sample 10000 / 50000\n",
      "[t-SNE] Computed conditional probabilities for sample 11000 / 50000\n",
      "[t-SNE] Computed conditional probabilities for sample 12000 / 50000\n",
      "[t-SNE] Computed conditional probabilities for sample 13000 / 50000\n",
      "[t-SNE] Computed conditional probabilities for sample 14000 / 50000\n",
      "[t-SNE] Computed conditional probabilities for sample 15000 / 50000\n",
      "[t-SNE] Computed conditional probabilities for sample 16000 / 50000\n",
      "[t-SNE] Computed conditional probabilities for sample 17000 / 50000\n",
      "[t-SNE] Computed conditional probabilities for sample 18000 / 50000\n",
      "[t-SNE] Computed conditional probabilities for sample 19000 / 50000\n",
      "[t-SNE] Computed conditional probabilities for sample 20000 / 50000\n",
      "[t-SNE] Computed conditional probabilities for sample 21000 / 50000\n",
      "[t-SNE] Computed conditional probabilities for sample 22000 / 50000\n",
      "[t-SNE] Computed conditional probabilities for sample 23000 / 50000\n",
      "[t-SNE] Computed conditional probabilities for sample 24000 / 50000\n",
      "[t-SNE] Computed conditional probabilities for sample 25000 / 50000\n",
      "[t-SNE] Computed conditional probabilities for sample 26000 / 50000\n",
      "[t-SNE] Computed conditional probabilities for sample 27000 / 50000\n",
      "[t-SNE] Computed conditional probabilities for sample 28000 / 50000\n",
      "[t-SNE] Computed conditional probabilities for sample 29000 / 50000\n",
      "[t-SNE] Computed conditional probabilities for sample 30000 / 50000\n",
      "[t-SNE] Computed conditional probabilities for sample 31000 / 50000\n",
      "[t-SNE] Computed conditional probabilities for sample 32000 / 50000\n",
      "[t-SNE] Computed conditional probabilities for sample 33000 / 50000\n",
      "[t-SNE] Computed conditional probabilities for sample 34000 / 50000\n",
      "[t-SNE] Computed conditional probabilities for sample 35000 / 50000\n",
      "[t-SNE] Computed conditional probabilities for sample 36000 / 50000\n",
      "[t-SNE] Computed conditional probabilities for sample 37000 / 50000\n",
      "[t-SNE] Computed conditional probabilities for sample 38000 / 50000\n",
      "[t-SNE] Computed conditional probabilities for sample 39000 / 50000\n",
      "[t-SNE] Computed conditional probabilities for sample 40000 / 50000\n",
      "[t-SNE] Computed conditional probabilities for sample 41000 / 50000\n",
      "[t-SNE] Computed conditional probabilities for sample 42000 / 50000\n",
      "[t-SNE] Computed conditional probabilities for sample 43000 / 50000\n",
      "[t-SNE] Computed conditional probabilities for sample 44000 / 50000\n",
      "[t-SNE] Computed conditional probabilities for sample 45000 / 50000\n",
      "[t-SNE] Computed conditional probabilities for sample 46000 / 50000\n",
      "[t-SNE] Computed conditional probabilities for sample 47000 / 50000\n",
      "[t-SNE] Computed conditional probabilities for sample 48000 / 50000\n",
      "[t-SNE] Computed conditional probabilities for sample 49000 / 50000\n",
      "[t-SNE] Computed conditional probabilities for sample 50000 / 50000\n",
      "[t-SNE] Mean sigma: 0.000000\n",
      "[t-SNE] KL divergence after 250 iterations with early exaggeration: 102.929375\n",
      "[t-SNE] Error after 300 iterations: 5.044337\n"
     ]
    }
   ],
   "source": [
    "tsne = TSNE(n_components=2, verbose=1, perplexity=40, n_iter=300)\n",
    "tsne_results = tsne.fit_transform(pca_subset)"
   ]
  },
  {
   "cell_type": "code",
   "execution_count": 16,
   "metadata": {
    "scrolled": true
   },
   "outputs": [
    {
     "data": {
      "text/plain": [
       "<matplotlib.axes._subplots.AxesSubplot at 0x7f240be1f240>"
      ]
     },
     "execution_count": 16,
     "metadata": {},
     "output_type": "execute_result"
    },
    {
     "data": {
      "image/png": "[encoded data removed]",
      "text/plain": [
       "<matplotlib.figure.Figure at 0x7f240bf8ac88>"
      ]
     },
     "metadata": {
      "needs_background": "light"
     },
     "output_type": "display_data"
    }
   ],
   "source": [
    "pca_subset['tsne-2d-one'] = tsne_results[:,0]\n",
    "pca_subset['tsne-2d-two'] = tsne_results[:,1]\n",
    "plt.figure(figsize=(16,10))\n",
    "sns.regplot(\n",
    "    x=\"tsne-2d-one\", y=\"tsne-2d-two\",\n",
    "    fit_reg=False,\n",
    "    data=pca_subset\n",
    ")"
   ]
  },
  {
   "cell_type": "markdown",
   "metadata": {},
   "source": [
    "Based on the chart, we can see that the data we have is not very clustered: we have one very big cluster, another cluster that is two or even three times smaller and one very small cluster.\n",
    "In the next part of the notebook, I am calculating how measure representing distance between clusters and silhouette measure change for different number of clusters chosen for KMeans algorithm. Here's the useful [link](https://mmuratarat.github.io/2019-07-23/kmeans_from_scratch) that helped me to make this analysis. "
   ]
  },
  {
   "cell_type": "code",
   "execution_count": 6,
   "metadata": {},
   "outputs": [
    {
     "name": "stdout",
     "output_type": "stream",
     "text": [
      "Score for number of cluster(s) 2: -155399975.39708403\n",
      "Silhouette score for number of cluster(s) 2: 0.06979574308318694\n",
      "Score for number of cluster(s) 3: -149136295.51802322\n",
      "Silhouette score for number of cluster(s) 3: 0.07071813449952363\n",
      "Score for number of cluster(s) 4: -144164945.73624\n",
      "Silhouette score for number of cluster(s) 4: 0.06397749451426506\n",
      "Score for number of cluster(s) 5: -139941720.80209365\n",
      "Silhouette score for number of cluster(s) 5: -0.02383361191313636\n",
      "Score for number of cluster(s) 6: -137352547.92597234\n",
      "Silhouette score for number of cluster(s) 6: -0.02400183965280868\n",
      "Score for number of cluster(s) 7: -135201479.9559229\n",
      "Silhouette score for number of cluster(s) 7: -0.02844151888308345\n",
      "Score for number of cluster(s) 8: -133400663.1762612\n",
      "Silhouette score for number of cluster(s) 8: -0.020944059029377175\n",
      "Score for number of cluster(s) 9: -131829309.68259615\n",
      "Silhouette score for number of cluster(s) 9: -0.015028470327562915\n",
      "Score for number of cluster(s) 10: -130503206.7615805\n",
      "Silhouette score for number of cluster(s) 10: -0.014444980888663037\n"
     ]
    }
   ],
   "source": [
    "km_scores= []\n",
    "km_silhouette = []\n",
    "\n",
    "for i in range(2,11):\n",
    "    km = KMeans(n_clusters=i, random_state=0).fit(azdias_pca)\n",
    "    preds = km.predict(azdias_pca)\n",
    "    \n",
    "    print(\"Score for number of cluster(s) {}: {}\".format(i,km.score(azdias_pca)))\n",
    "    km_scores.append(-km.score(azdias_pca))\n",
    "    \n",
    "    silhouette = silhouette_score(azdias_pca,preds, sample_size = 20000)\n",
    "    km_silhouette.append(silhouette)\n",
    "    print(\"Silhouette score for number of cluster(s) {}: {}\".format(i,silhouette))"
   ]
  },
  {
   "cell_type": "code",
   "execution_count": 7,
   "metadata": {},
   "outputs": [
    {
     "data": {
      "image/png": "[encoded data removed]",
      "text/plain": [
       "<matplotlib.figure.Figure at 0x7fd2e1858a58>"
      ]
     },
     "metadata": {
      "needs_background": "light"
     },
     "output_type": "display_data"
    }
   ],
   "source": [
    "plt.figure(figsize=(7,4))\n",
    "plt.title(\"The elbow method for determining number of clusters\\n\",fontsize=16)\n",
    "plt.scatter(x=[i for i in range(2,11)],y=km_scores,s=150,edgecolor='k')\n",
    "plt.grid(True)\n",
    "plt.xlabel(\"Number of clusters\",fontsize=14)\n",
    "plt.ylabel(\"K-means score\",fontsize=15)\n",
    "plt.xticks([i for i in range(2,11)],fontsize=14)\n",
    "plt.yticks(fontsize=15)\n",
    "plt.show()"
   ]
  },
  {
   "cell_type": "code",
   "execution_count": 8,
   "metadata": {},
   "outputs": [
    {
     "data": {
      "image/png": "[encoded data removed]",
      "text/plain": [
       "<matplotlib.figure.Figure at 0x7fd2b3868f28>"
      ]
     },
     "metadata": {
      "needs_background": "light"
     },
     "output_type": "display_data"
    }
   ],
   "source": [
    "plt.figure(figsize=(7,4))\n",
    "plt.title(\"The silhouette coefficient method \\nfor determining number of clusters\\n\",fontsize=16)\n",
    "plt.scatter(x=[i for i in range(2,11)],y=km_silhouette,s=150,edgecolor='k')\n",
    "plt.grid(True)\n",
    "plt.xlabel(\"Number of clusters\",fontsize=14)\n",
    "plt.ylabel(\"Silhouette score\",fontsize=15)\n",
    "plt.xticks([i for i in range(2,11)],fontsize=14)\n",
    "plt.yticks(fontsize=15)\n",
    "plt.show()"
   ]
  },
  {
   "cell_type": "markdown",
   "metadata": {},
   "source": [
    "Based on the charts, I can say that three clusters would be optimal number for the data I work with."
   ]
  },
  {
   "cell_type": "code",
   "execution_count": 21,
   "metadata": {},
   "outputs": [],
   "source": [
    "kmeans = KMeans(n_clusters = 3)\n",
    "azdias_clusters = kmeans.fit(azdias_pca)\n",
    "azdias_preds = azdias_clusters.predict(azdias_pca)"
   ]
  },
  {
   "cell_type": "code",
   "execution_count": 22,
   "metadata": {},
   "outputs": [],
   "source": [
    "# clustering customers' data\n",
    "customers_preds = kmeans.predict(customers_pca)"
   ]
  },
  {
   "cell_type": "markdown",
   "metadata": {},
   "source": [
    "In the next chart, I am comparing how proportions of users realted to the identified clusters differ between Demogrpahics and Customers datasets."
   ]
  },
  {
   "cell_type": "code",
   "execution_count": 53,
   "metadata": {},
   "outputs": [
    {
     "data": {
      "image/png": "[encoded data removed]",
      "text/plain": [
       "<matplotlib.figure.Figure at 0x7f2409528ba8>"
      ]
     },
     "metadata": {
      "needs_background": "light"
     },
     "output_type": "display_data"
    }
   ],
   "source": [
    "df_azdias = pd.DataFrame(azdias_preds, columns = ['cluster'])\n",
    "df_azdias = df_azdias.groupby(['cluster'])['cluster'].count().reset_index(name = 'amnt')\n",
    "df_azdias['perc'] = np.array(df_azdias['amnt']) / np.sum(df_azdias['amnt']) * 100\n",
    "\n",
    "df_cust = pd.DataFrame(customers_preds, columns = ['cluster'])\n",
    "df_cust = df_cust.groupby(['cluster'])['cluster'].count().reset_index(name = 'amnt')\n",
    "df_cust['perc'] = np.array(df_cust['amnt']) / np.sum(df_cust['amnt']) * 100\n",
    "\n",
    "fig, ax =plt.subplots(1,2)\n",
    "sns.barplot(x=\"cluster\", y=\"perc\", data=df_azdias, ax=ax[0])\n",
    "ax[0].set_title('Demographics')\n",
    "ax[0].set_ylabel('Percent')\n",
    "ax[0].set_xlabel('Clusters')\n",
    "sns.barplot(x=\"cluster\", y=\"perc\", data=df_cust, ax=ax[1])\n",
    "ax[1].set_title('Customers')\n",
    "ax[1].set_ylabel('Percent')\n",
    "ax[1].set_xlabel('Clusters')\n",
    "plt.subplots_adjust(right = 1.5)"
   ]
  },
  {
   "cell_type": "code",
   "execution_count": 33,
   "metadata": {},
   "outputs": [],
   "source": [
    "def describe_cluster(df, pca, cluster, num_components):\n",
    "    \"\"\"\n",
    "    The function describes the clusters based on the principal components\n",
    "\n",
    "    Arguments:\n",
    "        df: pandas DataFrame\n",
    "        pca: output of pca\n",
    "        cluster: number of a cluster\n",
    "        num_components: number of components that are used for the description\n",
    "\n",
    "    Returns:\n",
    "        main statistics returned by the function describe()\n",
    "    \"\"\"\n",
    "    over_cl = list(df[df.cluster == cluster].index)\n",
    "    return pd.DataFrame(df_pca).iloc[over_cl,0:num_components].describe()"
   ]
  },
  {
   "cell_type": "code",
   "execution_count": 34,
   "metadata": {},
   "outputs": [
    {
     "data": {
      "text/html": [
       "<div>\n",
       "<style scoped>\n",
       "    .dataframe tbody tr th:only-of-type {\n",
       "        vertical-align: middle;\n",
       "    }\n",
       "\n",
       "    .dataframe tbody tr th {\n",
       "        vertical-align: top;\n",
       "    }\n",
       "\n",
       "    .dataframe thead th {\n",
       "        text-align: right;\n",
       "    }\n",
       "</style>\n",
       "<table border=\"1\" class=\"dataframe\">\n",
       "  <thead>\n",
       "    <tr style=\"text-align: right;\">\n",
       "      <th></th>\n",
       "      <th>0</th>\n",
       "      <th>1</th>\n",
       "      <th>2</th>\n",
       "    </tr>\n",
       "  </thead>\n",
       "  <tbody>\n",
       "    <tr>\n",
       "      <th>count</th>\n",
       "      <td>389638.000000</td>\n",
       "      <td>389638.000000</td>\n",
       "      <td>389638.000000</td>\n",
       "    </tr>\n",
       "    <tr>\n",
       "      <th>mean</th>\n",
       "      <td>-2.073678</td>\n",
       "      <td>2.293626</td>\n",
       "      <td>-0.869743</td>\n",
       "    </tr>\n",
       "    <tr>\n",
       "      <th>std</th>\n",
       "      <td>2.640178</td>\n",
       "      <td>3.060553</td>\n",
       "      <td>2.875671</td>\n",
       "    </tr>\n",
       "    <tr>\n",
       "      <th>min</th>\n",
       "      <td>-13.854684</td>\n",
       "      <td>-7.577840</td>\n",
       "      <td>-8.219767</td>\n",
       "    </tr>\n",
       "    <tr>\n",
       "      <th>25%</th>\n",
       "      <td>-3.591051</td>\n",
       "      <td>0.280716</td>\n",
       "      <td>-3.147254</td>\n",
       "    </tr>\n",
       "    <tr>\n",
       "      <th>50%</th>\n",
       "      <td>-1.349120</td>\n",
       "      <td>1.347267</td>\n",
       "      <td>-1.646901</td>\n",
       "    </tr>\n",
       "    <tr>\n",
       "      <th>75%</th>\n",
       "      <td>-0.656504</td>\n",
       "      <td>4.132371</td>\n",
       "      <td>1.367259</td>\n",
       "    </tr>\n",
       "    <tr>\n",
       "      <th>max</th>\n",
       "      <td>8.033168</td>\n",
       "      <td>15.925068</td>\n",
       "      <td>10.389842</td>\n",
       "    </tr>\n",
       "  </tbody>\n",
       "</table>\n",
       "</div>"
      ],
      "text/plain": [
       "                   0              1              2\n",
       "count  389638.000000  389638.000000  389638.000000\n",
       "mean       -2.073678       2.293626      -0.869743\n",
       "std         2.640178       3.060553       2.875671\n",
       "min       -13.854684      -7.577840      -8.219767\n",
       "25%        -3.591051       0.280716      -3.147254\n",
       "50%        -1.349120       1.347267      -1.646901\n",
       "75%        -0.656504       4.132371       1.367259\n",
       "max         8.033168      15.925068      10.389842"
      ]
     },
     "execution_count": 34,
     "metadata": {},
     "output_type": "execute_result"
    }
   ],
   "source": [
    "describe_cluster(df_azdias, azdias_pca, 0, 3)"
   ]
  },
  {
   "cell_type": "code",
   "execution_count": 35,
   "metadata": {},
   "outputs": [
    {
     "data": {
      "text/html": [
       "<div>\n",
       "<style scoped>\n",
       "    .dataframe tbody tr th:only-of-type {\n",
       "        vertical-align: middle;\n",
       "    }\n",
       "\n",
       "    .dataframe tbody tr th {\n",
       "        vertical-align: top;\n",
       "    }\n",
       "\n",
       "    .dataframe thead th {\n",
       "        text-align: right;\n",
       "    }\n",
       "</style>\n",
       "<table border=\"1\" class=\"dataframe\">\n",
       "  <thead>\n",
       "    <tr style=\"text-align: right;\">\n",
       "      <th></th>\n",
       "      <th>0</th>\n",
       "      <th>1</th>\n",
       "      <th>2</th>\n",
       "    </tr>\n",
       "  </thead>\n",
       "  <tbody>\n",
       "    <tr>\n",
       "      <th>count</th>\n",
       "      <td>127312.000000</td>\n",
       "      <td>127312.000000</td>\n",
       "      <td>127312.000000</td>\n",
       "    </tr>\n",
       "    <tr>\n",
       "      <th>mean</th>\n",
       "      <td>-4.831331</td>\n",
       "      <td>-3.639679</td>\n",
       "      <td>2.299714</td>\n",
       "    </tr>\n",
       "    <tr>\n",
       "      <th>std</th>\n",
       "      <td>3.418688</td>\n",
       "      <td>3.235935</td>\n",
       "      <td>3.145289</td>\n",
       "    </tr>\n",
       "    <tr>\n",
       "      <th>min</th>\n",
       "      <td>-15.689891</td>\n",
       "      <td>-12.644590</td>\n",
       "      <td>-6.368807</td>\n",
       "    </tr>\n",
       "    <tr>\n",
       "      <th>25%</th>\n",
       "      <td>-7.443657</td>\n",
       "      <td>-6.064645</td>\n",
       "      <td>-0.244641</td>\n",
       "    </tr>\n",
       "    <tr>\n",
       "      <th>50%</th>\n",
       "      <td>-4.656204</td>\n",
       "      <td>-3.610157</td>\n",
       "      <td>2.410376</td>\n",
       "    </tr>\n",
       "    <tr>\n",
       "      <th>75%</th>\n",
       "      <td>-2.159803</td>\n",
       "      <td>-1.332731</td>\n",
       "      <td>4.644819</td>\n",
       "    </tr>\n",
       "    <tr>\n",
       "      <th>max</th>\n",
       "      <td>4.251669</td>\n",
       "      <td>6.424937</td>\n",
       "      <td>11.580173</td>\n",
       "    </tr>\n",
       "  </tbody>\n",
       "</table>\n",
       "</div>"
      ],
      "text/plain": [
       "                   0              1              2\n",
       "count  127312.000000  127312.000000  127312.000000\n",
       "mean       -4.831331      -3.639679       2.299714\n",
       "std         3.418688       3.235935       3.145289\n",
       "min       -15.689891     -12.644590      -6.368807\n",
       "25%        -7.443657      -6.064645      -0.244641\n",
       "50%        -4.656204      -3.610157       2.410376\n",
       "75%        -2.159803      -1.332731       4.644819\n",
       "max         4.251669       6.424937      11.580173"
      ]
     },
     "execution_count": 35,
     "metadata": {},
     "output_type": "execute_result"
    }
   ],
   "source": [
    "describe_cluster(df_azdias, azdias_pca, 1, 3)"
   ]
  },
  {
   "cell_type": "code",
   "execution_count": 36,
   "metadata": {
    "scrolled": true
   },
   "outputs": [
    {
     "data": {
      "text/html": [
       "<div>\n",
       "<style scoped>\n",
       "    .dataframe tbody tr th:only-of-type {\n",
       "        vertical-align: middle;\n",
       "    }\n",
       "\n",
       "    .dataframe tbody tr th {\n",
       "        vertical-align: top;\n",
       "    }\n",
       "\n",
       "    .dataframe thead th {\n",
       "        text-align: right;\n",
       "    }\n",
       "</style>\n",
       "<table border=\"1\" class=\"dataframe\">\n",
       "  <thead>\n",
       "    <tr style=\"text-align: right;\">\n",
       "      <th></th>\n",
       "      <th>0</th>\n",
       "      <th>1</th>\n",
       "      <th>2</th>\n",
       "    </tr>\n",
       "  </thead>\n",
       "  <tbody>\n",
       "    <tr>\n",
       "      <th>count</th>\n",
       "      <td>374271.000000</td>\n",
       "      <td>374271.000000</td>\n",
       "      <td>374271.000000</td>\n",
       "    </tr>\n",
       "    <tr>\n",
       "      <th>mean</th>\n",
       "      <td>3.802245</td>\n",
       "      <td>-1.149726</td>\n",
       "      <td>0.123183</td>\n",
       "    </tr>\n",
       "    <tr>\n",
       "      <th>std</th>\n",
       "      <td>2.537057</td>\n",
       "      <td>3.367997</td>\n",
       "      <td>2.874897</td>\n",
       "    </tr>\n",
       "    <tr>\n",
       "      <th>min</th>\n",
       "      <td>-3.087176</td>\n",
       "      <td>-11.188386</td>\n",
       "      <td>-8.464736</td>\n",
       "    </tr>\n",
       "    <tr>\n",
       "      <th>25%</th>\n",
       "      <td>1.949924</td>\n",
       "      <td>-3.480802</td>\n",
       "      <td>-2.011806</td>\n",
       "    </tr>\n",
       "    <tr>\n",
       "      <th>50%</th>\n",
       "      <td>3.554075</td>\n",
       "      <td>-1.518872</td>\n",
       "      <td>0.365693</td>\n",
       "    </tr>\n",
       "    <tr>\n",
       "      <th>75%</th>\n",
       "      <td>5.390296</td>\n",
       "      <td>0.799301</td>\n",
       "      <td>2.288015</td>\n",
       "    </tr>\n",
       "    <tr>\n",
       "      <th>max</th>\n",
       "      <td>16.506995</td>\n",
       "      <td>14.794431</td>\n",
       "      <td>8.912665</td>\n",
       "    </tr>\n",
       "  </tbody>\n",
       "</table>\n",
       "</div>"
      ],
      "text/plain": [
       "                   0              1              2\n",
       "count  374271.000000  374271.000000  374271.000000\n",
       "mean        3.802245      -1.149726       0.123183\n",
       "std         2.537057       3.367997       2.874897\n",
       "min        -3.087176     -11.188386      -8.464736\n",
       "25%         1.949924      -3.480802      -2.011806\n",
       "50%         3.554075      -1.518872       0.365693\n",
       "75%         5.390296       0.799301       2.288015\n",
       "max        16.506995      14.794431       8.912665"
      ]
     },
     "execution_count": 36,
     "metadata": {},
     "output_type": "execute_result"
    }
   ],
   "source": [
    "describe_cluster(df_azdias, azdias_pca, 2, 3)"
   ]
  },
  {
   "cell_type": "markdown",
   "metadata": {},
   "source": [
    "The charts show that there are two clusters that are almost equally or even overrepresented in the customers' datasets: the first and the third clusters. The first cluster represnts upper-class citizens who live in highly urbanised localities. The third cluster stands for upper-class people, who live outside a city and are characterised by a low mobility level. At the same time, the second cluster is rather underrepresented in the customers' data. This cluster represents mostly  religious not self-minded senior people, who have financial difficulties and are not prone to visiting different cultural events. "
   ]
  },
  {
   "cell_type": "markdown",
   "metadata": {},
   "source": [
    "## Part 2: Supervised Learning Model\n",
    "\n",
    "Now that you've found which parts of the population are more likely to be customers of the mail-order company, it's time to build a prediction model. Each of the rows in the \"MAILOUT\" data files represents an individual that was targeted for a mailout campaign. Ideally, we should be able to use the demographic information from each individual to decide whether or not it will be worth it to include that person in the campaign.\n",
    "\n",
    "The \"MAILOUT\" data has been split into two approximately equal parts, each with almost 43 000 data rows. In this part, you can verify your model with the \"TRAIN\" partition, which includes a column, \"RESPONSE\", that states whether or not a person became a customer of the company following the campaign. In the next part, you'll need to create predictions on the \"TEST\" partition, where the \"RESPONSE\" column has been withheld."
   ]
  },
  {
   "cell_type": "code",
   "execution_count": 7,
   "metadata": {},
   "outputs": [
    {
     "name": "stderr",
     "output_type": "stream",
     "text": [
      "/opt/conda/lib/python3.6/site-packages/IPython/core/interactiveshell.py:2785: DtypeWarning: Columns (18,19) have mixed types. Specify dtype option on import or set low_memory=False.\n",
      "  interactivity=interactivity, compiler=compiler, result=result)\n"
     ]
    }
   ],
   "source": [
    "mailout_train = pd.read_csv('../../data/Term2/capstone/arvato_data/Udacity_MAILOUT_052018_TRAIN.csv', sep=';')"
   ]
  },
  {
   "cell_type": "code",
   "execution_count": 8,
   "metadata": {},
   "outputs": [],
   "source": [
    "# saving the RESPONSE variable into a separate object and removing it together with id (LNR) variable from the dataset\n",
    "y = mailout_train['RESPONSE']\n",
    "mailout_train = mailout_train.drop(['LNR', 'RESPONSE'], axis = 1)"
   ]
  },
  {
   "cell_type": "markdown",
   "metadata": {},
   "source": [
    "### Cleaning and recoding"
   ]
  },
  {
   "cell_type": "markdown",
   "metadata": {},
   "source": [
    "As the classification task does not require having all information on the varibales, I will be using all the variables regardless if they are described in the additional files. Therefore, I need to rewrite the function that replaces missing values with NaNs a bit. The new function does the same as the old one if a variable is in the Values dataset. If a variable is not in the dataset, the function recodes all string values into NaNs. It's quite rough way of recoding and I assume that not all missing values will be recoded, but it's the only thing I can do in this situation."
   ]
  },
  {
   "cell_type": "code",
   "execution_count": 9,
   "metadata": {},
   "outputs": [],
   "source": [
    "def replace_unknowns_for_classification(df):\n",
    "    \"\"\"\n",
    "    The function applies 'identify_nans' for all columns that are described in the dataset 'values'. For other columns,\n",
    "    the function transforms all string values into NaNs. \n",
    "\n",
    "    Arguments:\n",
    "        df: Pandas DataFrame\n",
    "\n",
    "    Returns:\n",
    "        Pandas DataFrame with recoded values for all columns\n",
    "    \"\"\"\n",
    "    df_copy = df.copy()\n",
    "    for column in tqdm(df.columns):\n",
    "        if column in list(values_na['Attribute']):\n",
    "            df_copy[column] = identify_nans(column, df)\n",
    "        else:\n",
    "            df_copy[column] = df[column].apply(lambda x: np.nan if isinstance(x, str) else x)\n",
    "    \n",
    "    return df_copy"
   ]
  },
  {
   "cell_type": "code",
   "execution_count": 10,
   "metadata": {},
   "outputs": [
    {
     "name": "stderr",
     "output_type": "stream",
     "text": [
      "  4%|▍         | 16/365 [00:02<02:09,  2.69it/s]/opt/conda/lib/python3.6/site-packages/numpy/lib/arraysetops.py:580: FutureWarning: elementwise comparison failed; returning scalar instead, but in the future will perform elementwise comparison\n",
      "  mask |= (ar1 == a)\n",
      "100%|██████████| 365/365 [03:52<00:00,  1.20it/s]\n"
     ]
    }
   ],
   "source": [
    "mailout_cleaned = replace_unknowns_for_classification(mailout_train)"
   ]
  },
  {
   "cell_type": "markdown",
   "metadata": {},
   "source": [
    "After recoding, I need to define the threshold for the missing values in columns and remove those columns that have a number of missing values that is higher than the chosen threshold. Finally, all the columns having more than 40% of missing values were removed."
   ]
  },
  {
   "cell_type": "code",
   "execution_count": 50,
   "metadata": {},
   "outputs": [
    {
     "data": {
      "text/plain": [
       "(array([ 84.,   0.,   1., 174.,  62.,   1.,   2.,   1.,   5.,   3.,   4.,\n",
       "          2.,   1.,   0.,   2.,   2.,   1.,   3.,   5.,  12.]),\n",
       " array([0.  , 0.05, 0.1 , 0.15, 0.2 , 0.25, 0.3 , 0.35, 0.4 , 0.45, 0.5 ,\n",
       "        0.55, 0.6 , 0.65, 0.7 , 0.75, 0.8 , 0.85, 0.9 , 0.95, 1.  ]),\n",
       " <a list of 20 Patch objects>)"
      ]
     },
     "execution_count": 50,
     "metadata": {},
     "output_type": "execute_result"
    },
    {
     "data": {
      "image/png": "[encoded data removed]",
      "text/plain": [
       "<matplotlib.figure.Figure at 0x7f6b17fb42b0>"
      ]
     },
     "metadata": {
      "needs_background": "light"
     },
     "output_type": "display_data"
    }
   ],
   "source": [
    "plt.hist((len(mailout_cleaned) - mailout_cleaned.count())/len(mailout_cleaned), bins = 20)"
   ]
  },
  {
   "cell_type": "code",
   "execution_count": 11,
   "metadata": {},
   "outputs": [],
   "source": [
    "# the threshold of 0.4 was chosen for removing the columns\n",
    "stay_mailout = mailout_cleaned.columns[(len(mailout_cleaned) - mailout_cleaned.count())/\n",
    "                                             len(mailout_cleaned) <= 0.4]"
   ]
  },
  {
   "cell_type": "code",
   "execution_count": 12,
   "metadata": {},
   "outputs": [],
   "source": [
    "mailout_cleaned = mailout_cleaned[stay_mailout]"
   ]
  },
  {
   "cell_type": "code",
   "execution_count": 13,
   "metadata": {},
   "outputs": [],
   "source": [
    "# some minor changes were added to the function from the previous part of the analysis\n",
    "def clean_recode_for_classification(df):\n",
    "    \"\"\"\n",
    "    The function recodes the categorical variables and removes some redundant variables\n",
    "\n",
    "    Arguments:\n",
    "        df: pandas DataFrame\n",
    "\n",
    "    Returns:\n",
    "        Pandas DataFrame with recoded and removed variables\n",
    "    \"\"\"\n",
    "    \n",
    "    print('recoding missing values')\n",
    "    \n",
    "    df.loc[df['CAMEO_DEUG_2015'] == 'X', 'CAMEO_DEUG_2015'] = np.nan\n",
    "    df.loc[df['ALTERSKATEGORIE_GROB'] == 9, 'ALTERSKATEGORIE_GROB'] = np.nan\n",
    "    \n",
    "    df['CAMEO_DEUG_2015'] = df['CAMEO_DEUG_2015'].astype('float64')\n",
    "    \n",
    "    print('making a dummy variable')\n",
    "    \n",
    "    west_ost = pd.get_dummies(df['OST_WEST_KZ'], dummy_na = True, drop_first = True)\n",
    "    west_ost.columns = ['W', 'nans']\n",
    "    west_ost.loc[west_ost['nans'] == 1, 'W'] = np.nan\n",
    "    west_ost = west_ost.drop('nans', axis = 1)\n",
    "    df = pd.concat([df, west_ost], axis = 1)\n",
    "    \n",
    "    print('making a decade and movement variables')\n",
    "    \n",
    "    df['decade'] = df['PRAEGENDE_JUGENDJAHRE'].apply(lambda dec : \n",
    "                                                   40 if dec in [1,2]\n",
    "                                                   else 50 if dec in [3,4]\n",
    "                                                   else 60 if dec in np.arange(5,8)\n",
    "                                                   else 70 if dec in [8,9]\n",
    "                                                   else 80 if dec in np.arange(10,14)\n",
    "                                                   else 90 if dec in [14,15]\n",
    "                                                   else np.nan)\n",
    "    \n",
    "    df['movement'] = df['PRAEGENDE_JUGENDJAHRE'].apply(lambda mov : \n",
    "                                                   0 if mov in [1,3,5,8,10,12,14]\n",
    "                                                   else 1 if mov in [2,4,6,7,9,11,13,15]\n",
    "                                                   else np.nan)\n",
    "    \n",
    "    print('removing redundant variables')\n",
    "    \n",
    "    df = df.drop(['OST_WEST_KZ', 'PRAEGENDE_JUGENDJAHRE'], axis = 1)\n",
    "    \n",
    "    fein_columns = [col for col in df.columns if 'FEIN' in col]\n",
    "    df = df.drop(fein_columns, axis = 1)\n",
    "    \n",
    "    return df"
   ]
  },
  {
   "cell_type": "code",
   "execution_count": 14,
   "metadata": {},
   "outputs": [
    {
     "name": "stdout",
     "output_type": "stream",
     "text": [
      "recoding missing values\n",
      "making a dummy variable\n",
      "making a decade and movement variables\n",
      "removing redundant variables\n"
     ]
    }
   ],
   "source": [
    "warnings.filterwarnings(\"ignore\")\n",
    "mailout_cleaned = clean_recode_for_classification(mailout_cleaned)"
   ]
  },
  {
   "cell_type": "markdown",
   "metadata": {},
   "source": [
    "Exploration of the dependent variable showed that it's highly imbalanced, and the number of clients who didn't response is much higher than those ones who responsed. That means that accuracy wouldn't be a good measure for estimationg the quality of a model; I take AUC instead of it. "
   ]
  },
  {
   "cell_type": "code",
   "execution_count": 20,
   "metadata": {},
   "outputs": [
    {
     "data": {
      "image/png": "[encoded data removed]",
      "text/plain": [
       "<matplotlib.figure.Figure at 0x7f6af47d9160>"
      ]
     },
     "metadata": {
      "needs_background": "light"
     },
     "output_type": "display_data"
    }
   ],
   "source": [
    "g = sns.countplot(y)\n",
    "plt.show()"
   ]
  },
  {
   "cell_type": "code",
   "execution_count": 15,
   "metadata": {},
   "outputs": [],
   "source": [
    "# imputing NaNs and scaling variables\n",
    "impute = SimpleImputer(missing_values=np.nan)\n",
    "scaler = StandardScaler() "
   ]
  },
  {
   "cell_type": "code",
   "execution_count": 16,
   "metadata": {},
   "outputs": [],
   "source": [
    "mailout_imputed = pd.DataFrame(impute.fit_transform(mailout_cleaned))\n",
    "mailout_scaled = pd.DataFrame(scaler.fit_transform(mailout_imputed))"
   ]
  },
  {
   "cell_type": "markdown",
   "metadata": {},
   "source": [
    "### Classification"
   ]
  },
  {
   "cell_type": "markdown",
   "metadata": {},
   "source": [
    "After cleaning and preparing data, I can move to the classification."
   ]
  },
  {
   "cell_type": "code",
   "execution_count": 18,
   "metadata": {},
   "outputs": [],
   "source": [
    "def mailout_classify(X, y, classifier, params, imbalance_fixed = False):\n",
    "    \"\"\"\n",
    "    The function uses GridSearchCV to find the best paprmeters \n",
    "\n",
    "    Arguments:\n",
    "        X: Pandas DataFrame with features\n",
    "        y: Pandas Series with outcomes\n",
    "        params: dictitonary with parameters for a model\n",
    "        imbalance_fixed: if True, applies oversampling to data\n",
    "\n",
    "    Returns:\n",
    "        best estimator returned by GridSearchCV\n",
    "    \"\"\"\n",
    "    \n",
    "    if imbalance_fixed == True:\n",
    "        ros = SMOTE(random_state=17)\n",
    "        X, y = ros.fit_resample(X, y)\n",
    "    \n",
    "    grid_obj = GridSearchCV(classifier, params, scoring='roc_auc', cv=5) \n",
    "    grid_fit = grid_obj.fit(X, y)    \n",
    "    \n",
    "    print('Best score: ', str(grid_fit.best_score_))\n",
    "    \n",
    "    return grid_fit.best_estimator_"
   ]
  },
  {
   "cell_type": "markdown",
   "metadata": {},
   "source": [
    "First, I identify the classification algorithm that works better without tuning parameters."
   ]
  },
  {
   "cell_type": "code",
   "execution_count": 65,
   "metadata": {},
   "outputs": [
    {
     "name": "stdout",
     "output_type": "stream",
     "text": [
      "Best score:  0.6022082103717417\n"
     ]
    }
   ],
   "source": [
    "random_forest = RandomForestClassifier()\n",
    "rf_res = mailout_classify(mailout_scaled, y, random_forest, {})"
   ]
  },
  {
   "cell_type": "code",
   "execution_count": 66,
   "metadata": {},
   "outputs": [
    {
     "name": "stdout",
     "output_type": "stream",
     "text": [
      "Best score:  0.6651317907079666\n"
     ]
    }
   ],
   "source": [
    "log_reg = LogisticRegression()\n",
    "lr_res = mailout_classify(mailout_scaled, y, log_reg, {})"
   ]
  },
  {
   "cell_type": "code",
   "execution_count": 67,
   "metadata": {},
   "outputs": [
    {
     "name": "stdout",
     "output_type": "stream",
     "text": [
      "Best score:  0.7323607705044951\n"
     ]
    }
   ],
   "source": [
    "adaboost = AdaBoostClassifier()\n",
    "adaboost_res = mailout_classify(mailout_scaled, y, adaboost, {})"
   ]
  },
  {
   "cell_type": "code",
   "execution_count": 68,
   "metadata": {},
   "outputs": [
    {
     "name": "stdout",
     "output_type": "stream",
     "text": [
      "Best score:  0.7537311342469406\n"
     ]
    }
   ],
   "source": [
    "gradient_boost = GradientBoostingClassifier()\n",
    "gradient_boost_res = mailout_classify(mailout_scaled, y, gradient_boost, {})"
   ]
  },
  {
   "cell_type": "code",
   "execution_count": 69,
   "metadata": {
    "scrolled": true
   },
   "outputs": [
    {
     "name": "stdout",
     "output_type": "stream",
     "text": [
      "Best score:  0.7031913101928585\n"
     ]
    }
   ],
   "source": [
    "lgbm = LGBMClassifier()\n",
    "lgbm_res = mailout_classify(mailout_scaled, y, lgbm, {})"
   ]
  },
  {
   "cell_type": "markdown",
   "metadata": {},
   "source": [
    "GradientBoostingClassifier gave the best result, so I take it for further classification."
   ]
  },
  {
   "cell_type": "code",
   "execution_count": 33,
   "metadata": {},
   "outputs": [],
   "source": [
    "# setting the parameters for Gradient Boosting\n",
    "gradient_boost = GradientBoostingClassifier()\n",
    "gb_parameters = {\n",
    "    \"n_estimators\":[200, 300, 400],\n",
    "    \"learning_rate\":[0.001, 0.005, 0.01, 0.1]\n",
    "}"
   ]
  },
  {
   "cell_type": "code",
   "execution_count": 34,
   "metadata": {},
   "outputs": [
    {
     "name": "stdout",
     "output_type": "stream",
     "text": [
      "Best score:  0.7619370186326162\n"
     ]
    }
   ],
   "source": [
    "gradient_boost_best = mailout_classify(mailout_scaled, y, gradient_boost, gb_parameters)"
   ]
  },
  {
   "cell_type": "code",
   "execution_count": 35,
   "metadata": {},
   "outputs": [
    {
     "data": {
      "text/plain": [
       "GradientBoostingClassifier(learning_rate=0.01, n_estimators=300)"
      ]
     },
     "execution_count": 35,
     "metadata": {},
     "output_type": "execute_result"
    }
   ],
   "source": [
    "gradient_boost_best"
   ]
  },
  {
   "cell_type": "markdown",
   "metadata": {},
   "source": [
    "Another classifier will have the best parameters identified by GridSearchCV, but the data will be oversampled. It's one of the methods to avoid problems related to imbalanced datasets."
   ]
  },
  {
   "cell_type": "code",
   "execution_count": 19,
   "metadata": {},
   "outputs": [],
   "source": [
    "gb_best_params = {\n",
    "    \"n_estimators\":[300],\n",
    "    \"learning_rate\":[0.01]\n",
    "}"
   ]
  },
  {
   "cell_type": "code",
   "execution_count": 22,
   "metadata": {},
   "outputs": [
    {
     "name": "stdout",
     "output_type": "stream",
     "text": [
      "Best score:  0.9785621854942459\n"
     ]
    }
   ],
   "source": [
    "gradient_boost_best_balanced = mailout_classify(mailout_scaled, y, gradient_boost, gb_best_params, \n",
    "                                                imbalance_fixed = True)"
   ]
  },
  {
   "cell_type": "markdown",
   "metadata": {},
   "source": [
    "## Part 3: Kaggle Competition\n",
    "\n",
    "Now that you've created a model to predict which individuals are most likely to respond to a mailout campaign, it's time to test that model in competition through Kaggle. If you click on the link [here](http://www.kaggle.com/t/21e6d45d4c574c7fa2d868f0e8c83140), you'll be taken to the competition page where, if you have a Kaggle account, you can enter. If you're one of the top performers, you may have the chance to be contacted by a hiring manager from Arvato or Bertelsmann for an interview!\n",
    "\n",
    "Your entry to the competition should be a CSV file with two columns. The first column should be a copy of \"LNR\", which acts as an ID number for each individual in the \"TEST\" partition. The second column, \"RESPONSE\", should be some measure of how likely each individual became a customer – this might not be a straightforward probability. As you should have found in Part 2, there is a large output class imbalance, where most individuals did not respond to the mailout. Thus, predicting individual classes and using accuracy does not seem to be an appropriate performance evaluation method. Instead, the competition will be using AUC to evaluate performance. The exact values of the \"RESPONSE\" column do not matter as much: only that the higher values try to capture as many of the actual customers as possible, early in the ROC curve sweep."
   ]
  },
  {
   "cell_type": "code",
   "execution_count": 23,
   "metadata": {},
   "outputs": [],
   "source": [
    "mailout_test = pd.read_csv('../../data/Term2/capstone/arvato_data/Udacity_MAILOUT_052018_TEST.csv', sep=';')"
   ]
  },
  {
   "cell_type": "code",
   "execution_count": 24,
   "metadata": {},
   "outputs": [],
   "source": [
    "lnr = mailout_test['LNR']"
   ]
  },
  {
   "cell_type": "code",
   "execution_count": 25,
   "metadata": {},
   "outputs": [],
   "source": [
    "mailout_test = mailout_test.drop(['LNR'], axis = 1)"
   ]
  },
  {
   "cell_type": "code",
   "execution_count": 29,
   "metadata": {},
   "outputs": [
    {
     "data": {
      "text/plain": [
       "(42833, 365)"
      ]
     },
     "execution_count": 29,
     "metadata": {},
     "output_type": "execute_result"
    }
   ],
   "source": [
    "mailout_test.shape"
   ]
  },
  {
   "cell_type": "code",
   "execution_count": 26,
   "metadata": {},
   "outputs": [
    {
     "name": "stderr",
     "output_type": "stream",
     "text": [
      "100%|██████████| 365/365 [03:46<00:00,  1.22it/s]\n"
     ]
    }
   ],
   "source": [
    "mailout_test_cleaned = replace_unknowns_for_classification(mailout_test)"
   ]
  },
  {
   "cell_type": "code",
   "execution_count": 27,
   "metadata": {},
   "outputs": [],
   "source": [
    "stay_mailout_test = mailout_test_cleaned.columns[(len(mailout_test_cleaned) - mailout_test_cleaned.count())/\n",
    "                                             len(mailout_test_cleaned) <= 0.4]"
   ]
  },
  {
   "cell_type": "code",
   "execution_count": 28,
   "metadata": {},
   "outputs": [],
   "source": [
    "mailout_test_cleaned = mailout_test_cleaned[stay_mailout_test]"
   ]
  },
  {
   "cell_type": "code",
   "execution_count": 35,
   "metadata": {},
   "outputs": [
    {
     "data": {
      "text/plain": [
       "(42833, 325)"
      ]
     },
     "execution_count": 35,
     "metadata": {},
     "output_type": "execute_result"
    }
   ],
   "source": [
    "mailout_test_cleaned.shape"
   ]
  },
  {
   "cell_type": "code",
   "execution_count": 29,
   "metadata": {},
   "outputs": [
    {
     "name": "stdout",
     "output_type": "stream",
     "text": [
      "recoding missing values\n",
      "making a dummy variable\n",
      "making a decade and movement variables\n",
      "removing redundant variables\n"
     ]
    }
   ],
   "source": [
    "mailout_test_cleaned = clean_recode_for_classification(mailout_test_cleaned)"
   ]
  },
  {
   "cell_type": "code",
   "execution_count": 30,
   "metadata": {},
   "outputs": [],
   "source": [
    "mailout_test_imputed = pd.DataFrame(impute.transform(mailout_test_cleaned))\n",
    "mailout_test_scaled = pd.DataFrame(scaler.transform(mailout_test_imputed))"
   ]
  },
  {
   "cell_type": "code",
   "execution_count": 39,
   "metadata": {},
   "outputs": [
    {
     "data": {
      "text/plain": [
       "array([[0.96749548, 0.03250452],\n",
       "       [0.9717565 , 0.0282435 ],\n",
       "       [0.995392  , 0.004608  ],\n",
       "       ...,\n",
       "       [0.97150232, 0.02849768],\n",
       "       [0.98029384, 0.01970616],\n",
       "       [0.98253684, 0.01746316]])"
      ]
     },
     "execution_count": 39,
     "metadata": {},
     "output_type": "execute_result"
    }
   ],
   "source": [
    "# applying gradient boosting without oversampling\n",
    "preds = gradient_boost_best.predict_proba(mailout_test_scaled)\n",
    "preds"
   ]
  },
  {
   "cell_type": "code",
   "execution_count": 222,
   "metadata": {},
   "outputs": [],
   "source": [
    "result = pd.DataFrame({'LNR':lnr, 'RESPONSE':preds[:,1]})\n",
    "result.to_csv(path_or_buf='./result_gb_best.csv', index=False)"
   ]
  },
  {
   "cell_type": "code",
   "execution_count": null,
   "metadata": {},
   "outputs": [],
   "source": [
    "# applying gradient boosting with oversampling\n",
    "preds_balanced = gradient_boost_best_balanced.predict_proba(mailout_test_scaled)"
   ]
  },
  {
   "cell_type": "code",
   "execution_count": 46,
   "metadata": {},
   "outputs": [],
   "source": [
    "result_balanced = pd.DataFrame({'LNR':lnr, 'RESPONSE':preds_balanced[:,1]})\n",
    "result_balanced.to_csv(path_or_buf='./result_gb_balanced.csv', index=False)"
   ]
  }
 ],
 "metadata": {
  "kernelspec": {
   "display_name": "Python 3",
   "language": "python",
   "name": "python3"
  },
  "language_info": {
   "codemirror_mode": {
    "name": "ipython",
    "version": 3
   },
   "file_extension": ".py",
   "mimetype": "text/x-python",
   "name": "python",
   "nbconvert_exporter": "python",
   "pygments_lexer": "ipython3",
   "version": "3.6.3"
  }
 },
 "nbformat": 4,
 "nbformat_minor": 2
}
